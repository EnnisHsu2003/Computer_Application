{
 "cells": [
  {
   "cell_type": "markdown",
   "metadata": {},
   "source": [
    "## tuple, list, set, dict"
   ]
  },
  {
   "cell_type": "code",
   "execution_count": 18,
   "metadata": {},
   "outputs": [
    {
     "name": "stdout",
     "output_type": "stream",
     "text": [
      "<class 'tuple'>\n",
      "2\n"
     ]
    }
   ],
   "source": [
    "# tuple元組，用小括號()建立，沒特別需求通常不會用到tuple\n",
    "tuple_example = (1, 1, 2, 3)\n",
    "print(type(tuple_example))\n",
    "\n",
    "# 用index取值\n",
    "print(tuple_example[2])"
   ]
  },
  {
   "cell_type": "code",
   "execution_count": 19,
   "metadata": {},
   "outputs": [
    {
     "name": "stdout",
     "output_type": "stream",
     "text": [
      "<class 'list'>\n",
      "2\n"
     ]
    }
   ],
   "source": [
    "# list串列，用中括號[]建立，非常常用\n",
    "list_example = [1, 1, 2, 3]\n",
    "print(type(list_example))\n",
    "\n",
    "# 用index取值\n",
    "print(list_example[2])"
   ]
  },
  {
   "cell_type": "code",
   "execution_count": 26,
   "metadata": {},
   "outputs": [
    {
     "name": "stdout",
     "output_type": "stream",
     "text": [
      "<class 'set'>\n",
      "{1, 2, 3}\n"
     ]
    },
    {
     "ename": "TypeError",
     "evalue": "'set' object is not subscriptable",
     "output_type": "error",
     "traceback": [
      "\u001b[1;31m---------------------------------------------------------------------------\u001b[0m",
      "\u001b[1;31mTypeError\u001b[0m                                 Traceback (most recent call last)",
      "\u001b[1;32mc:\\Users\\user\\Desktop\\MyCode\\Python\\1006.ipynb Cell 4\u001b[0m in \u001b[0;36m<cell line: 9>\u001b[1;34m()\u001b[0m\n\u001b[0;32m      <a href='vscode-notebook-cell:/c%3A/Users/user/Desktop/MyCode/Python/1006.ipynb#X54sZmlsZQ%3D%3D?line=5'>6</a>\u001b[0m \u001b[39mprint\u001b[39m(set_example)\n\u001b[0;32m      <a href='vscode-notebook-cell:/c%3A/Users/user/Desktop/MyCode/Python/1006.ipynb#X54sZmlsZQ%3D%3D?line=7'>8</a>\u001b[0m \u001b[39m# 不能用index取值\u001b[39;00m\n\u001b[1;32m----> <a href='vscode-notebook-cell:/c%3A/Users/user/Desktop/MyCode/Python/1006.ipynb#X54sZmlsZQ%3D%3D?line=8'>9</a>\u001b[0m \u001b[39mprint\u001b[39m(set_example[\u001b[39m1\u001b[39;49m])\n",
      "\u001b[1;31mTypeError\u001b[0m: 'set' object is not subscriptable"
     ]
    }
   ],
   "source": [
    "# set集合，用大括號{}建立，裡面不能有重複的東西！！\n",
    "set_example = {1, 1, 2, 3}\n",
    "print(type(set_example))\n",
    "\n",
    "# 注意兩個重複的1只剩下一個\n",
    "print(set_example)\n",
    "\n",
    "# 不能用index取值！！\n",
    "print(set_example[1])"
   ]
  },
  {
   "cell_type": "code",
   "execution_count": 34,
   "metadata": {},
   "outputs": [
    {
     "name": "stdout",
     "output_type": "stream",
     "text": [
      "<class 'dict'>\n",
      "2\n",
      "one => 1\n",
      "two => 2\n",
      "three => 3\n"
     ]
    }
   ],
   "source": [
    "#dict字典，也是用大括號{}建立，特色是有key跟value(鍵對應值)\n",
    "dict_example = {'one' : 1,\n",
    "                'two' : 2,\n",
    "                'three' : 3}\n",
    "print(type(dict_example))\n",
    "\n",
    "# 用key取值\n",
    "print(dict_example['two'])\n",
    "\n",
    "# 用for迴圈分別取key和value\n",
    "for key, value in dict_example.items():\n",
    "    print(f'{key} => {value}')"
   ]
  },
  {
   "cell_type": "markdown",
   "metadata": {},
   "source": [
    "## input()"
   ]
  },
  {
   "cell_type": "code",
   "execution_count": 36,
   "metadata": {},
   "outputs": [
    {
     "name": "stdout",
     "output_type": "stream",
     "text": [
      "<class 'str'>\n",
      "666\n",
      "<class 'int'>\n",
      "666\n"
     ]
    }
   ],
   "source": [
    "# input()進來的東西預設是str型別，若要做數學運算要換成int(整數)或float(浮點數)型別\n",
    "input_example = input()\n",
    "print(type(input_example))\n",
    "print(input_example)\n",
    "\n",
    "input_example_to_int = int(input_example)\n",
    "print(type(input_example_to_int))\n",
    "print(input_example_to_int)"
   ]
  },
  {
   "cell_type": "markdown",
   "metadata": {},
   "source": [
    "## Homework 1"
   ]
  },
  {
   "cell_type": "markdown",
   "metadata": {},
   "source": [
    "#### Solution1 雙層list"
   ]
  },
  {
   "cell_type": "code",
   "execution_count": 50,
   "metadata": {},
   "outputs": [
    {
     "name": "stdout",
     "output_type": "stream",
     "text": [
      "學生1 : SubjectA拿76分，SubjectB拿73分，SubjectC拿85分\n",
      "======>總分：234分，平均：78.0分\n",
      "-----------------------------------------------------\n",
      "學生2 : SubjectA拿88分，SubjectB拿84分，SubjectC拿76分\n",
      "======>總分：248分，平均：82.7分\n",
      "-----------------------------------------------------\n",
      "學生3 : SubjectA拿92分，SubjectB拿82分，SubjectC拿92分\n",
      "======>總分：266分，平均：88.7分\n",
      "-----------------------------------------------------\n",
      "學生4 : SubjectA拿82分，SubjectB拿91分，SubjectC拿85分\n",
      "======>總分：258分，平均：86.0分\n",
      "-----------------------------------------------------\n",
      "學生5 : SubjectA拿72分，SubjectB拿74分，SubjectC拿73分\n",
      "======>總分：219分，平均：73.0分\n",
      "-----------------------------------------------------\n"
     ]
    }
   ],
   "source": [
    "score_list = [[76, 73, 85], [88, 84, 76], [92, 82, 92], [82, 91, 85], [72, 74, 73]]\n",
    "for i in range(5):\n",
    "    print(f'學生{i+1} : SubjectA拿{score_list[i][0]}分，SubjectB拿{score_list[i][1]}分，SubjectC拿{score_list[i][2]}分')\n",
    "    print(f'======>總分：{sum(score_list[i])}分，平均：{sum(score_list[i])/3:.1f}分')\n",
    "    print('-----------------------------------------------------')"
   ]
  },
  {
   "cell_type": "markdown",
   "metadata": {},
   "source": [
    "#### Solution2 dict包list"
   ]
  },
  {
   "cell_type": "code",
   "execution_count": 51,
   "metadata": {},
   "outputs": [
    {
     "name": "stdout",
     "output_type": "stream",
     "text": [
      "學生1 : SubjectA拿76分，SubjectB拿73分，SubjectC拿85分\n",
      "======>總分：234分，平均：78.0分\n",
      "-----------------------------------------------------\n",
      "學生2 : SubjectA拿88分，SubjectB拿84分，SubjectC拿76分\n",
      "======>總分：248分，平均：82.7分\n",
      "-----------------------------------------------------\n",
      "學生3 : SubjectA拿92分，SubjectB拿82分，SubjectC拿92分\n",
      "======>總分：266分，平均：88.7分\n",
      "-----------------------------------------------------\n",
      "學生4 : SubjectA拿82分，SubjectB拿91分，SubjectC拿85分\n",
      "======>總分：258分，平均：86.0分\n",
      "-----------------------------------------------------\n",
      "學生5 : SubjectA拿72分，SubjectB拿74分，SubjectC拿73分\n",
      "======>總分：219分，平均：73.0分\n",
      "-----------------------------------------------------\n"
     ]
    }
   ],
   "source": [
    "score_dict = {1 : [76, 73, 85],\n",
    "              2 : [88, 84, 76],\n",
    "              3 : [92, 82, 92],\n",
    "              4 : [82, 91, 85],\n",
    "              5 : [72, 74, 73]}\n",
    "for key, value in score_dict.items():\n",
    "    print(f'學生{key} : SubjectA拿{value[0]}分，SubjectB拿{value[1]}分，SubjectC拿{value[2]}分')\n",
    "    print(f'======>總分：{sum(value)}分，平均：{sum(value)/3:.1f}分')\n",
    "    print('-----------------------------------------------------')"
   ]
  },
  {
   "cell_type": "markdown",
   "metadata": {},
   "source": [
    "#### Solution3 pandas輸出表格"
   ]
  },
  {
   "cell_type": "code",
   "execution_count": 53,
   "metadata": {},
   "outputs": [
    {
     "data": {
      "text/html": [
       "<div>\n",
       "<style scoped>\n",
       "    .dataframe tbody tr th:only-of-type {\n",
       "        vertical-align: middle;\n",
       "    }\n",
       "\n",
       "    .dataframe tbody tr th {\n",
       "        vertical-align: top;\n",
       "    }\n",
       "\n",
       "    .dataframe thead th {\n",
       "        text-align: right;\n",
       "    }\n",
       "</style>\n",
       "<table border=\"1\" class=\"dataframe\">\n",
       "  <thead>\n",
       "    <tr style=\"text-align: right;\">\n",
       "      <th></th>\n",
       "      <th>Subject A</th>\n",
       "      <th>Subject B</th>\n",
       "      <th>Subject C</th>\n",
       "      <th>sum</th>\n",
       "      <th>average</th>\n",
       "    </tr>\n",
       "    <tr>\n",
       "      <th>number</th>\n",
       "      <th></th>\n",
       "      <th></th>\n",
       "      <th></th>\n",
       "      <th></th>\n",
       "      <th></th>\n",
       "    </tr>\n",
       "  </thead>\n",
       "  <tbody>\n",
       "    <tr>\n",
       "      <th>1</th>\n",
       "      <td>76</td>\n",
       "      <td>73</td>\n",
       "      <td>85</td>\n",
       "      <td>234</td>\n",
       "      <td>78.0</td>\n",
       "    </tr>\n",
       "    <tr>\n",
       "      <th>2</th>\n",
       "      <td>88</td>\n",
       "      <td>84</td>\n",
       "      <td>76</td>\n",
       "      <td>248</td>\n",
       "      <td>82.7</td>\n",
       "    </tr>\n",
       "    <tr>\n",
       "      <th>3</th>\n",
       "      <td>92</td>\n",
       "      <td>82</td>\n",
       "      <td>92</td>\n",
       "      <td>266</td>\n",
       "      <td>88.7</td>\n",
       "    </tr>\n",
       "    <tr>\n",
       "      <th>4</th>\n",
       "      <td>82</td>\n",
       "      <td>91</td>\n",
       "      <td>85</td>\n",
       "      <td>258</td>\n",
       "      <td>86.0</td>\n",
       "    </tr>\n",
       "    <tr>\n",
       "      <th>5</th>\n",
       "      <td>72</td>\n",
       "      <td>74</td>\n",
       "      <td>73</td>\n",
       "      <td>219</td>\n",
       "      <td>73.0</td>\n",
       "    </tr>\n",
       "  </tbody>\n",
       "</table>\n",
       "</div>"
      ],
      "text/plain": [
       "        Subject A  Subject B  Subject C  sum  average\n",
       "number                                               \n",
       "1              76         73         85  234     78.0\n",
       "2              88         84         76  248     82.7\n",
       "3              92         82         92  266     88.7\n",
       "4              82         91         85  258     86.0\n",
       "5              72         74         73  219     73.0"
      ]
     },
     "execution_count": 53,
     "metadata": {},
     "output_type": "execute_result"
    }
   ],
   "source": [
    "import pandas as pd\n",
    "grades = {'number': [1, 2, 3, 4, 5],\n",
    "          'Subject A': [76, 88, 92, 82, 72],\n",
    "          'Subject B': [73, 84, 82, 91, 74],\n",
    "          'Subject C': [85, 76, 92, 85, 73]}\n",
    "df = pd.DataFrame(grades).set_index('number')\n",
    "df['sum'] = df.iloc[:, 0:3].sum(axis=1)\n",
    "df['average'] = df.iloc[:, 0:3].mean(axis=1).round(1)\n",
    "df"
   ]
  },
  {
   "cell_type": "markdown",
   "metadata": {},
   "source": [
    "## Homework 2"
   ]
  },
  {
   "cell_type": "markdown",
   "metadata": {},
   "source": [
    "#### 基礎"
   ]
  },
  {
   "cell_type": "code",
   "execution_count": 4,
   "metadata": {},
   "outputs": [
    {
     "name": "stdout",
     "output_type": "stream",
     "text": [
      "第1天售出83份雞排，還有472份雞排未售出。\n",
      "第2天售出86份雞排，還有386份雞排未售出。\n",
      "第3天售出65份雞排，還有321份雞排未售出。\n",
      "第4天售出52份雞排，還有269份雞排未售出。\n",
      "第5天售出60份雞排，還有209份雞排未售出。\n",
      "第6天售出95份雞排，還有114份雞排未售出。\n",
      "第7天售出51份雞排，還有63份雞排未售出。\n"
     ]
    }
   ],
   "source": [
    "from numpy.random import randint\n",
    "\n",
    "quantity = int(input('總共要進多少片雞排 : '))\n",
    "for i in range(7):\n",
    "    sales = randint(20, 100) \n",
    "    quantity -= sales\n",
    "    print(f'第{i+1}天售出{sales}份雞排，還有{quantity}份雞排未售出。')   "
   ]
  },
  {
   "cell_type": "markdown",
   "metadata": {},
   "source": [
    "#### 加入成本和售價計算利潤"
   ]
  },
  {
   "cell_type": "code",
   "execution_count": 6,
   "metadata": {},
   "outputs": [
    {
     "name": "stdout",
     "output_type": "stream",
     "text": [
      "雞排一片成本40元，售價70元。\n",
      "第1天售出42份雞排，還有513份雞排未售出，目前利潤-19260元。\n",
      "第2天售出81份雞排，還有432份雞排未售出，目前利潤-13590元。\n",
      "第3天售出46份雞排，還有386份雞排未售出，目前利潤-10370元。\n",
      "第4天售出35份雞排，還有351份雞排未售出，目前利潤 -7920元。\n",
      "第5天售出81份雞排，還有270份雞排未售出，目前利潤 -2250元。\n",
      "第6天售出47份雞排，還有223份雞排未售出，目前利潤  1040元。\n",
      "第7天售出37份雞排，還有186份雞排未售出，目前利潤  3630元。\n"
     ]
    }
   ],
   "source": [
    "cost_per_chops = -40\n",
    "price_per_chops = 70\n",
    "print(f'雞排一片成本{-cost_per_chops}元，售價{price_per_chops}元。')\n",
    "\n",
    "quantity = int(input('總共要進多少片雞排 : '))\n",
    "total_benefit = cost_per_chops*quantity\n",
    "\n",
    "for i in range(7):\n",
    "    sales = randint(20, 100) \n",
    "    quantity -= sales\n",
    "    total_benefit += price_per_chops*sales\n",
    "    print(f'第{i+1}天售出{sales}份雞排，還有{quantity}份雞排未售出，目前利潤{total_benefit:>6d}元。')   "
   ]
  },
  {
   "cell_type": "markdown",
   "metadata": {},
   "source": [
    "#### 加上爬蟲爬取每天雞肉價錢作為成本，加上if-else判斷7天內就賣完的情況，加上數據可視化"
   ]
  },
  {
   "cell_type": "code",
   "execution_count": 7,
   "metadata": {},
   "outputs": [
    {
     "name": "stdout",
     "output_type": "stream",
     "text": [
      "2022/10/6 => 一台斤雞肉34.5元，約可做兩片雞排，一片成本17.25元，一片炸雞賣70元。\n",
      "總共進貨555片雞排\n",
      "第1天售出56份雞排，還有499份雞排未售出，目前利潤： -5653.8元\n",
      "第2天售出98份雞排，還有401份雞排未售出，目前利潤：  1206.2元\n",
      "第3天售出69份雞排，還有332份雞排未售出，目前利潤：  6036.2元\n",
      "第4天售出55份雞排，還有277份雞排未售出，目前利潤：  9886.2元\n",
      "第5天售出66份雞排，還有211份雞排未售出，目前利潤： 14506.2元\n",
      "第6天售出84份雞排，還有127份雞排未售出，目前利潤： 20386.2元\n",
      "第7天售出83份雞排，還有 44份雞排未售出，目前利潤： 26196.2元\n",
      "--------------------------------------------------------\n",
      "總利潤 : 26196.25元\n",
      "--------------------------------------------------------\n"
     ]
    },
    {
     "data": {
      "image/png": "[encoded data removed]",
      "text/plain": [
       "<Figure size 432x288 with 1 Axes>"
      ]
     },
     "metadata": {
      "needs_background": "light"
     },
     "output_type": "display_data"
    }
   ],
   "source": [
    "import requests\n",
    "from bs4 import BeautifulSoup\n",
    "import matplotlib.pyplot as plt\n",
    "from numpy.random import randint\n",
    "\n",
    "# crawl chicken price\n",
    "url = 'https://ag.shuhao.idv.tw/content/ag/eggData.aspx'\n",
    "resp = requests.get(url).text\n",
    "soup = BeautifulSoup(resp, 'html.parser')\n",
    "\n",
    "date = soup.find('span', attrs={\"id\": \"ContentPlaceHolder1base_cph1_GridView1_lblTradingDate_0\"}).text\n",
    "cost_per_600g_chicken = soup.find('span', attrs={\"id\": \"ContentPlaceHolder1base_cph1_GridView1_lblGoodsName_0\"}).text\n",
    "\n",
    "# set up\n",
    "# 600g chicken = 2 chicken chops\n",
    "cost_per_chops = -(float(cost_per_600g_chicken)/2)\n",
    "price_per_chops = 70\n",
    "print(f'{date} => 一台斤雞肉{cost_per_600g_chicken}元，約可做兩片雞排，一片成本{-cost_per_chops}元，一片炸雞賣{price_per_chops}元。')\n",
    "quantity = int(input('總共要進多少片雞排 : '))\n",
    "total_benefit = cost_per_chops*quantity\n",
    "benefit_list = [total_benefit]\n",
    "print(f'總共進貨{quantity}片雞排')\n",
    "\n",
    "# calculate\n",
    "for day in range(1, 8):\n",
    "    sales = randint(20, 100)\n",
    "    if (quantity-sales) > 0:\n",
    "        total_benefit += sales*price_per_chops\n",
    "        quantity -= sales\n",
    "        benefit_list.append(total_benefit)\n",
    "        print(f'第{day}天售出{sales}份雞排，還有{quantity:3d}份雞排未售出，目前利潤：{total_benefit:>8.1f}元')\n",
    "    else:\n",
    "        sales = quantity\n",
    "        total_benefit += sales*price_per_chops\n",
    "        quantity -= sales\n",
    "        benefit_list.append(total_benefit)\n",
    "        print(f'第{day}天售出{sales}份雞排，還有{quantity:3d}份雞排未售出，目前利潤：{total_benefit:>8.1f}元')\n",
    "        break\n",
    "    \n",
    "label = [f'day{i}' for i in range(0, len(benefit_list))]\n",
    "    \n",
    "# print result\n",
    "print('--------------------------------------------------------')\n",
    "print(f'總利潤 : {total_benefit}元')\n",
    "print('--------------------------------------------------------')\n",
    "\n",
    "# plot\n",
    "plt.bar(label, height=benefit_list)\n",
    "plt.title('Total Benefits')\n",
    "plt.show()"
   ]
  },
  {
   "cell_type": "markdown",
   "metadata": {},
   "source": [
    "## Homework 3"
   ]
  },
  {
   "cell_type": "markdown",
   "metadata": {},
   "source": [
    "#### Solution1 中規中矩for迴圈"
   ]
  },
  {
   "cell_type": "code",
   "execution_count": 2,
   "metadata": {},
   "outputs": [
    {
     "name": "stdout",
     "output_type": "stream",
     "text": [
      "7\n",
      "14\n",
      "21\n",
      "28\n",
      "35\n",
      "42\n",
      "49\n",
      "56\n",
      "63\n",
      "70\n",
      "77\n",
      "84\n",
      "91\n",
      "98\n",
      "sum : 735\n"
     ]
    }
   ],
   "source": [
    "sum = 0\n",
    "for i in range(1, 101):\n",
    "    if i%7==0:\n",
    "        print(i)\n",
    "        sum += i\n",
    "print(f'sum : {sum}')"
   ]
  },
  {
   "cell_type": "markdown",
   "metadata": {},
   "source": [
    "#### Solution2 超簡單但是沒多少人想到(我也沒想到QQ)"
   ]
  },
  {
   "cell_type": "code",
   "execution_count": 55,
   "metadata": {},
   "outputs": [
    {
     "name": "stdout",
     "output_type": "stream",
     "text": [
      "7\n",
      "14\n",
      "21\n",
      "28\n",
      "35\n",
      "42\n",
      "49\n",
      "56\n",
      "63\n",
      "70\n",
      "77\n",
      "84\n",
      "91\n",
      "98\n",
      "sum : 735\n"
     ]
    }
   ],
   "source": [
    "sum = 0 \n",
    "for i in range(7, 101, 7):\n",
    "    print(i)\n",
    "    sum += i\n",
    "print(f'sum : {sum}')"
   ]
  },
  {
   "cell_type": "markdown",
   "metadata": {},
   "source": [
    "#### Solution3 單行for迴圈"
   ]
  },
  {
   "cell_type": "code",
   "execution_count": 1,
   "metadata": {},
   "outputs": [
    {
     "name": "stdout",
     "output_type": "stream",
     "text": [
      "[7, 14, 21, 28, 35, 42, 49, 56, 63, 70, 77, 84, 91, 98]\n",
      "Total sum = 735\n",
      " 1st number can be divided by 7 is 7\n",
      " 2st number can be divided by 7 is 14\n",
      " 3st number can be divided by 7 is 21\n",
      " 4st number can be divided by 7 is 28\n",
      " 5st number can be divided by 7 is 35\n",
      " 6st number can be divided by 7 is 42\n",
      " 7st number can be divided by 7 is 49\n",
      " 8st number can be divided by 7 is 56\n",
      " 9st number can be divided by 7 is 63\n",
      "10st number can be divided by 7 is 70\n",
      "11st number can be divided by 7 is 77\n",
      "12st number can be divided by 7 is 84\n",
      "13st number can be divided by 7 is 91\n",
      "14st number can be divided by 7 is 98\n",
      "There are 14 numbers are divisible by 7.\n"
     ]
    }
   ],
   "source": [
    "# 主要是這行\n",
    "ans_list = [i for i in range(1, 101) if i%7==0]\n",
    "print(ans_list)\n",
    "\n",
    "# 這邊是一些格式化輸出\n",
    "print(f'Total sum = {sum(ans_list)}')\n",
    "for i in range(len(ans_list)):\n",
    "    print(f'{i+1:2d}st number can be divided by 7 is {ans_list[i]}')\n",
    "print(f'There are {len(ans_list)} numbers are divisible by 7.')"
   ]
  }
 ],
 "metadata": {
  "interpreter": {
   "hash": "82ed002fa2d4956f5c6aec99bcefe0f73a9f79882f3c9e2319b14958a5896ac5"
  },
  "kernelspec": {
   "display_name": "Python 3.9.6 64-bit",
   "language": "python",
   "name": "python3"
  },
  "language_info": {
   "codemirror_mode": {
    "name": "ipython",
    "version": 3
   },
   "file_extension": ".py",
   "mimetype": "text/x-python",
   "name": "python",
   "nbconvert_exporter": "python",
   "pygments_lexer": "ipython3",
   "version": "3.9.6"
  },
  "orig_nbformat": 4
 },
 "nbformat": 4,
 "nbformat_minor": 2
}
