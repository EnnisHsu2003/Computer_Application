{
 "cells": [
  {
   "cell_type": "markdown",
   "metadata": {},
   "source": [
    "## Class"
   ]
  },
  {
   "cell_type": "code",
   "execution_count": 10,
   "metadata": {},
   "outputs": [
    {
     "name": "stdout",
     "output_type": "stream",
     "text": [
      "這邊呼叫example整個class：\n",
      "test test test\n",
      "This is in __init__\n",
      "\n",
      "這邊呼叫example物件和裡面的function1：\n",
      "This is in function1\n"
     ]
    }
   ],
   "source": [
    "# 定義example物件，不傳入參數\n",
    "class example:\n",
    "    # __init__代表initial，這邊寫的事情一呼叫class的時候就會做\n",
    "    # self是固定的寫法，一定要有，代表的是example這個物件本身\n",
    "    def __init__(self):\n",
    "        print('test test test')\n",
    "        print('This is in __init__')\n",
    "    \n",
    "    # 這邊是另外定義的function，要另外呼叫才會執行\n",
    "    def function1():\n",
    "        print('This is in function1')\n",
    "\n",
    "print('這邊呼叫example整個class：')\n",
    "example()\n",
    "\n",
    "print()\n",
    "\n",
    "print('這邊呼叫example物件和裡面的function1：')\n",
    "example.function1()"
   ]
  },
  {
   "cell_type": "code",
   "execution_count": 11,
   "metadata": {},
   "outputs": [
    {
     "name": "stdout",
     "output_type": "stream",
     "text": [
      "王小明\n",
      "20\n",
      "40\n"
     ]
    }
   ],
   "source": [
    "class people:\n",
    "    def __init__(self, name, age):\n",
    "        # 這邊的self.name定義的是people裡面的name\n",
    "        self.name = name\n",
    "        self.age = age\n",
    "        # 也可以另外定義people裡面的參數\n",
    "        self.double_age = age * 2\n",
    "        \n",
    "a = people('王小明', 20)\n",
    "# 這邊叫name, age, double_age，因為不是呼叫函式(function)，所以不用加() \n",
    "print(a.name)\n",
    "print(a.age)\n",
    "print(a.double_age)"
   ]
  },
  {
   "cell_type": "code",
   "execution_count": 18,
   "metadata": {},
   "outputs": [
    {
     "name": "stdout",
     "output_type": "stream",
     "text": [
      "======return======\n",
      "我的名字是王小明，我的年紀是20.\n",
      "\n",
      "======print======\n",
      "我的名字是王小明，我的年紀是20.\n"
     ]
    }
   ],
   "source": [
    "class people:\n",
    "    def __init__(self, name, age):\n",
    "        self.name = name\n",
    "        self.age = age\n",
    "    \n",
    "    # return 是將東西返回給變數，要另外用print()才可以顯示出來\n",
    "    def return_information(self):\n",
    "        output = f'我的名字是{self.name}，我的年紀是{self.age}.'\n",
    "        return output\n",
    "    \n",
    "    # print() 可以直接顯示出來，但大多數情況下用return比較保險\n",
    "    def print_information(self):\n",
    "        output = f'我的名字是{self.name}，我的年紀是{self.age}.'\n",
    "        print(output)\n",
    "        \n",
    "        \n",
    "a = people('王小明', 20)\n",
    "print('======return======')\n",
    "# 因為是函式，所以後面要加()\n",
    "# return 要另外用print()印出來\n",
    "print(a.return_information())\n",
    "\n",
    "print()\n",
    "\n",
    "print('======print======')\n",
    "# 因為是函式，所以後面要加()\n",
    "# print()，就直接呼叫就好\n",
    "a.print_information()"
   ]
  },
  {
   "cell_type": "code",
   "execution_count": 17,
   "metadata": {},
   "outputs": [
    {
     "name": "stdout",
     "output_type": "stream",
     "text": [
      "======沒定義======\n",
      "<__main__.people_without_str object at 0x000001BB8B7BFF70>\n",
      "\n",
      "======有定義======\n",
      "我是王小明，今年29歲\n"
     ]
    }
   ],
   "source": [
    "# 沒定義__str__\n",
    "class people_without_str:\n",
    "    def __init__(self, name, age):\n",
    "        self.name = name\n",
    "        self.age = age\n",
    "        \n",
    "# 有定義__str__ \n",
    "class people_with_str:\n",
    "    def __init__(self, name, age):\n",
    "        self.name = name\n",
    "        self.age = age\n",
    "    \n",
    "    # __str__定義用str()會回傳的東西，沒特別定義就會回傳python預設的東西\n",
    "    def __str__(self):\n",
    "        return f'我是{self.name}，今年{self.age}歲'\n",
    "\n",
    "print('======沒定義======')\n",
    "a = people_without_str('王小明', 29)\n",
    "print(str(a))\n",
    "\n",
    "print()\n",
    "\n",
    "print('======有定義======')\n",
    "b = people_with_str('王小明', 29)\n",
    "print(str(b))"
   ]
  },
  {
   "cell_type": "markdown",
   "metadata": {},
   "source": [
    "## numpy.argmax()\n",
    "#### 返回最大值的index"
   ]
  },
  {
   "cell_type": "code",
   "execution_count": 22,
   "metadata": {},
   "outputs": [
    {
     "name": "stdout",
     "output_type": "stream",
     "text": [
      "[264  88 497 149 941 879 152 810  91  84]\n",
      "4\n",
      "941\n",
      "941\n"
     ]
    }
   ],
   "source": [
    "# numpy docs推薦import時簡寫為np\n",
    "import numpy as np\n",
    "\n",
    "# 產生10個0-1000的隨機變數\n",
    "num_list = np.random.randint(0, 1000, 10)\n",
    "print(num_list)\n",
    "\n",
    "# 找最大值的index\n",
    "biggest_num_index = np.argmax(num_list)\n",
    "print(biggest_num_index)\n",
    "\n",
    "# 找最大值\n",
    "print(num_list[biggest_num_index])\n",
    "print(max(num_list))"
   ]
  },
  {
   "cell_type": "markdown",
   "metadata": {},
   "source": [
    "## Homework"
   ]
  },
  {
   "cell_type": "markdown",
   "metadata": {},
   "source": [
    "#### 簡單寫法"
   ]
  },
  {
   "cell_type": "code",
   "execution_count": 5,
   "metadata": {},
   "outputs": [
    {
     "name": "stdout",
     "output_type": "stream",
     "text": [
      "[6, 7, 9, 5, 15, 4]\n",
      "15\n"
     ]
    }
   ],
   "source": [
    "# 定義DogOfMy物件，傳入兩個參數：name(str), age(int)\n",
    "class DogOfMy:\n",
    "    def __init__(self, name: str, age: int):\n",
    "        self.name = name\n",
    "        self.age = age\n",
    "\n",
    "\n",
    "# 把全部DogOfMy物件包成一個list\n",
    "dogs = [DogOfMy(\"Tom\", 6),\n",
    "        DogOfMy(\"Fletcher\", 7),\n",
    "        DogOfMy(\"Larry\", 9),\n",
    "        DogOfMy(\"William\", 5),\n",
    "        DogOfMy(\"Whity\", 15),\n",
    "        DogOfMy(\"Miles\", 4)]\n",
    "\n",
    "# 把dogs(list)中所有物件的age取出來放到另外一個list(age_list)\n",
    "age_list = []\n",
    "for i in dogs:\n",
    "    age_list.append(i.age)\n",
    "print(age_list)\n",
    "\n",
    "# 用max()找出list中最大的值\n",
    "oldest_age = max(age_list)\n",
    "print(oldest_age)\n"
   ]
  },
  {
   "cell_type": "markdown",
   "metadata": {},
   "source": [
    "#### 兩個class寫法(註解)"
   ]
  },
  {
   "cell_type": "code",
   "execution_count": 19,
   "metadata": {},
   "outputs": [
    {
     "name": "stdout",
     "output_type": "stream",
     "text": [
      "The oldest dog is Whity.\n",
      "The oldest dog is 15 years old.\n",
      "The oldest dog is Whity, which is 15 years old.\n"
     ]
    }
   ],
   "source": [
    "# 第一個class，定義DogOfMy物件，傳入兩個參數：name(str), age(int)\n",
    "class DogOfMy:\n",
    "    # __init__代表initial，這邊寫的事情一呼叫class的時候就會做\n",
    "    # name: str, age: int，冒號後面的東西只是型別註解，有寫沒寫不會影響程式\n",
    "    def __init__(self, name: str, age: int):\n",
    "        self.name = name\n",
    "        self.age = age\n",
    "\n",
    "\n",
    "# 第二個class，定義Dogs物件，傳入一個參數：dogs(list)\n",
    "class Dogs:\n",
    "    def __init__(self, dogs: list):\n",
    "        self.dogs = dogs\n",
    "\n",
    "        # argmax()是可以找出最大值的index的function\n",
    "        from numpy import argmax\n",
    "        # 從dogs(list)裡面找出最大的age的index\n",
    "        oldest_index = argmax([dog.age for dog in self.dogs])\n",
    "        # 用index找出最大的DogOfMy物件(物件裡面包括name, age)\n",
    "        self.oldest = dogs[oldest_index]\n",
    "\n",
    "    # 找出最老的狗的名字\n",
    "    def find_the_oldest_dog(self):\n",
    "        output = f'The oldest dog is {self.oldest.name}.'\n",
    "        return output\n",
    "    \n",
    "    # 找出最老的狗的年紀\n",
    "    def find_the_oldest_age(self):\n",
    "        output = f'The oldest dog is {self.oldest.age} years old.'\n",
    "        return output\n",
    "\n",
    "    # 找出最老的狗的名字和年紀\n",
    "    def find_the_oldest(self):\n",
    "        output = f'The oldest dog is {self.oldest.name}, which is {self.oldest.age} years old.'\n",
    "        return output\n",
    "\n",
    "\n",
    "# 把全部DogOfMy物件包成一個list\n",
    "dogs = [DogOfMy(\"Tom\", 6),\n",
    "        DogOfMy(\"Fletcher\", 7),\n",
    "        DogOfMy(\"Larry\", 9),\n",
    "        DogOfMy(\"William\", 5),\n",
    "        DogOfMy(\"Whity\", 15),\n",
    "        DogOfMy(\"Miles\", 4)]\n",
    "\n",
    "# 把整個list傳到Dogs()變成Dogs物件\n",
    "Doooooooog = Dogs(dogs)\n",
    "# 呼叫找出最老的狗的名字的function\n",
    "print(Doooooooog.find_the_oldest_dog())\n",
    "# 呼叫找出最老的狗的年紀的function\n",
    "print(Doooooooog.find_the_oldest_age())\n",
    "# 呼叫找出最老的狗的名字和年紀的function\n",
    "print(Doooooooog.find_the_oldest())"
   ]
  },
  {
   "cell_type": "markdown",
   "metadata": {},
   "source": [
    "#### 兩個class寫法(無註解)"
   ]
  },
  {
   "cell_type": "code",
   "execution_count": 14,
   "metadata": {},
   "outputs": [
    {
     "name": "stdout",
     "output_type": "stream",
     "text": [
      "The oldest dog is Whity.\n",
      "The oldest dog is 15 years old.\n",
      "The oldest dog is Whity, which is 15 years old.\n"
     ]
    }
   ],
   "source": [
    "class DogOfMy:\n",
    "    def __init__(self, name: str, age: int):\n",
    "        self.name = name\n",
    "        self.age = age\n",
    "\n",
    "\n",
    "class Dogs:\n",
    "    def __init__(self, dogs: list):\n",
    "        self.dogs = dogs\n",
    "\n",
    "        from numpy import argmax\n",
    "        oldest_index = argmax([dog.age for dog in self.dogs])\n",
    "        self.oldest = dogs[oldest_index]\n",
    "\n",
    "    def find_the_oldest_dog(self):\n",
    "        output = f'The oldest dog is {self.oldest.name}.'\n",
    "        return output\n",
    "    \n",
    "    def find_the_oldest_age(self):\n",
    "        output = f'The oldest dog is {self.oldest.age} years old.'\n",
    "        return output\n",
    "\n",
    "    def find_the_oldest(self):\n",
    "        output = f'The oldest dog is {self.oldest.name}, which is {self.oldest.age} years old.'\n",
    "        return output\n",
    "\n",
    "\n",
    "\n",
    "dogs = [DogOfMy(\"Tom\", 6),\n",
    "        DogOfMy(\"Fletcher\", 7),\n",
    "        DogOfMy(\"Larry\", 9),\n",
    "        DogOfMy(\"William\", 5),\n",
    "        DogOfMy(\"Whity\", 15),\n",
    "        DogOfMy(\"Miles\", 4)]\n",
    "\n",
    "Doooooooog = Dogs(dogs)\n",
    "print(Doooooooog.find_the_oldest_dog())\n",
    "print(Doooooooog.find_the_oldest_age())\n",
    "print(Doooooooog.find_the_oldest())"
   ]
  }
 ],
 "metadata": {
  "kernelspec": {
   "display_name": "Python 3.9.6 64-bit",
   "language": "python",
   "name": "python3"
  },
  "language_info": {
   "codemirror_mode": {
    "name": "ipython",
    "version": 3
   },
   "file_extension": ".py",
   "mimetype": "text/x-python",
   "name": "python",
   "nbconvert_exporter": "python",
   "pygments_lexer": "ipython3",
   "version": "3.9.6"
  },
  "orig_nbformat": 4,
  "vscode": {
   "interpreter": {
    "hash": "82ed002fa2d4956f5c6aec99bcefe0f73a9f79882f3c9e2319b14958a5896ac5"
   }
  }
 },
 "nbformat": 4,
 "nbformat_minor": 2
}
