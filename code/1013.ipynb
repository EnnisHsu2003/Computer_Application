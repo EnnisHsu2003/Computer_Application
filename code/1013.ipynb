{
 "cells": [
  {
   "cell_type": "markdown",
   "metadata": {},
   "source": [
    "## PEP8\n",
    "#### PEP8是一套python社群共同遵守的風格指南，目的在於使大家寫出可讀性高且風格一致的python\n",
    "#### 全部的內容還蠻多的，底下只大概提幾個重點，這些風格如果沒有照著做，寫出來的程式碼也還是跑得動啦，但可讀性就會很低"
   ]
  },
  {
   "cell_type": "code",
   "execution_count": null,
   "metadata": {},
   "outputs": [],
   "source": [
    "# 縮排四格\n",
    "for i in range(10):\n",
    "    pass"
   ]
  },
  {
   "cell_type": "code",
   "execution_count": null,
   "metadata": {},
   "outputs": [],
   "source": [
    "# 括號內不要有多餘的空格\n",
    "true = int('123')\n",
    "false = int( '123' )"
   ]
  },
  {
   "cell_type": "code",
   "execution_count": null,
   "metadata": {},
   "outputs": [],
   "source": [
    "# ';'  ':'  ',' 前面不要有空格， ','一般習慣後面會加空格\n",
    "while True:\n",
    "    print('a', 'b', 'c', 'd')\n",
    "while False :\n",
    "    print('a' ,'b' ,'c' , 'd')"
   ]
  },
  {
   "cell_type": "code",
   "execution_count": null,
   "metadata": {},
   "outputs": [],
   "source": [
    "# 二元操作符左右要加空格，例如：+, -, *, /, =, !=, <, >\n",
    "# 若數學式子同時用到很多的話只在最低優先級的加空格\n",
    "# 函數裡參數的=不加空格\n",
    "true = open(file='example.txt', mode='r', encoding='utf-8')\n",
    "false=open(file = 'example.txt', mode = 'r', encoding = 'utf-8')\n",
    "\n",
    "# 最低優先級是賦值的=\n",
    "true = 7*3+5/2\n",
    "false = 7 * 3 + 5 / 2"
   ]
  },
  {
   "cell_type": "code",
   "execution_count": null,
   "metadata": {},
   "outputs": [],
   "source": [
    "# 變數命名沒有強制的風格，最重要的就是變數要是有意義的名字，a, b, c, x, y, z之類的盡量少用，還有變數名稱開頭不要是數字\n",
    "# Python比較常看到用'_'隔開兩個字\n",
    "this_is_example_variable_name = True\n",
    "\n",
    "#有些語言會用大寫隔開(Java Script和R好像都是慣用這種)，python比較少看到但也是有人用\n",
    "ThisIsExampleVaribleName = True\n",
    "\n",
    "# 盡量不要在開頭結尾用'_'尤其是兩個'__'，這在python有時候會有些特別定義\n",
    "# 底下程式碼看不懂沒關係，只要注意到__init__這邊在python是有特殊定義的東西\n",
    "class example_code():\n",
    "    def __init__(self, a, b):\n",
    "        a = self.a\n",
    "        b = self.b"
   ]
  },
  {
   "cell_type": "markdown",
   "metadata": {},
   "source": [
    "## 查看當前工作路徑"
   ]
  },
  {
   "cell_type": "code",
   "execution_count": 1,
   "metadata": {},
   "outputs": [
    {
     "name": "stdout",
     "output_type": "stream",
     "text": [
      "c:\\Users\\user\\Desktop\\MyCode\\github_CA\\code\n"
     ]
    }
   ],
   "source": [
    "# 用os.getcwd()取得現在工作位置\n",
    "import os\n",
    "print(os.getcwd())"
   ]
  },
  {
   "cell_type": "markdown",
   "metadata": {},
   "source": [
    "#### 開啟其他的文件首先要確定該文件的位置"
   ]
  },
  {
   "cell_type": "code",
   "execution_count": 6,
   "metadata": {},
   "outputs": [
    {
     "name": "stdout",
     "output_type": "stream",
     "text": [
      "['0929.ipynb', '1006.ipynb', '1013.ipynb', '1027.ipynb']\n",
      "['courseid_24771_CA_participants.txt', 'FeatureArticle.txt']\n"
     ]
    }
   ],
   "source": [
    "# 用os.listdir()確認現在工作位置下有哪些檔案\n",
    "# 可以看到我們現在的檔案'1013.ipynb'在code資料夾而我們要開啟的檔案'courseid_24771_CA_participants.txt'在上一層的data資料夾中\n",
    "# ../代表上一層\n",
    "print(os.listdir())\n",
    "print(os.listdir('../data'))"
   ]
  },
  {
   "cell_type": "code",
   "execution_count": 7,
   "metadata": {},
   "outputs": [
    {
     "name": "stdout",
     "output_type": "stream",
     "text": [
      "成功開啟\n"
     ]
    }
   ],
   "source": [
    "# 如果要開啟的檔案跟工作檔案在同一個資料夾裡，開啟時可以只寫檔案名稱(相對路徑)\n",
    "# 不同層的話相對路徑較難寫，以下為不同層的相對路徑寫法\n",
    "with open('../data/courseid_24771_CA_participants.txt', 'r', encoding=\"utf-8\") as f:\n",
    "    print('成功開啟') "
   ]
  },
  {
   "cell_type": "code",
   "execution_count": 8,
   "metadata": {},
   "outputs": [
    {
     "name": "stdout",
     "output_type": "stream",
     "text": [
      "成功開啟\n"
     ]
    }
   ],
   "source": [
    "# 不在同一個路徑就只能相對路徑寫起來會很麻煩，所以可以使用絕對路徑\n",
    "# 我的檔案路徑：c:\\Users\\user\\Desktop\\MyCode\\github_CA\\data\\courseid_24771_CA_participants.txt\n",
    "# 注意一個地方，檔案路徑用一個r''包起來，這個r代表的是後面要輸入raw string，不然檔案路徑裡的\\都會被當作跳脫符號\n",
    "with open(r'c:\\Users\\user\\Desktop\\MyCode\\github_CA\\data\\courseid_24771_CA_participants.txt', 'r', encoding=\"utf-8\") as f:\n",
    "    print('成功開啟')"
   ]
  },
  {
   "cell_type": "markdown",
   "metadata": {},
   "source": [
    "## 如何查看檔案絕對路徑"
   ]
  },
  {
   "cell_type": "markdown",
   "metadata": {},
   "source": [
    "#### windows：win鍵+'R'，輸入'cmd'後按enter，打開terminal後把你要知道路徑的檔案用滑鼠拖進去，他就會顯示絕對路徑\n",
    "#### mac:'command'+'space'，輸入'terminal'後按enter，之後把你要知道路徑的檔案用滑鼠拖進去，他就會顯示絕對路徑"
   ]
  },
  {
   "cell_type": "markdown",
   "metadata": {},
   "source": [
    "## Raw string"
   ]
  },
  {
   "cell_type": "markdown",
   "metadata": {},
   "source": [
    "#### 我們一般看到都是處理過後的文字像是'\\n'會跳行，'\\t'是tab(通常是兩格或四格)，未經過這些轉換的字串叫做raw string，python可以用repr()來檢視raw string"
   ]
  },
  {
   "cell_type": "code",
   "execution_count": 5,
   "metadata": {},
   "outputs": [
    {
     "name": "stdout",
     "output_type": "stream",
     "text": [
      "這是一般看到的文字：\n",
      "Today\tis\ta\tgood\tday.\n",
      "Isn't\tit?\n",
      "=====================================\n",
      "這是raw text：\n",
      "\"Today\\tis\\ta\\tgood\\tday.\\nIsn't\\tit?\"\n"
     ]
    }
   ],
   "source": [
    "print('這是一般看到的文字：')\n",
    "text = \"Today\\tis\\ta\\tgood\\tday.\\nIsn't\\tit?\"\n",
    "print(text)\n",
    "print('=====================================')\n",
    "print('這是raw text：')\n",
    "print(repr(text))"
   ]
  },
  {
   "cell_type": "markdown",
   "metadata": {},
   "source": [
    "## Homework 6-1"
   ]
  },
  {
   "cell_type": "markdown",
   "metadata": {},
   "source": [
    "#### Solution 1"
   ]
  },
  {
   "cell_type": "code",
   "execution_count": 1,
   "metadata": {},
   "outputs": [
    {
     "name": "stdout",
     "output_type": "stream",
     "text": [
      "I love computer application class\n",
      "I LOVE computer application class\n"
     ]
    }
   ],
   "source": [
    "text = 'I love computer application class'\n",
    "print(text)\n",
    "keywords = 'love'\n",
    "print(text.replace(keywords, keywords.upper()))"
   ]
  },
  {
   "cell_type": "markdown",
   "metadata": {},
   "source": [
    "## Homework 6-2"
   ]
  },
  {
   "cell_type": "markdown",
   "metadata": {},
   "source": [
    "#### 步驟 1"
   ]
  },
  {
   "cell_type": "code",
   "execution_count": 12,
   "metadata": {},
   "outputs": [
    {
     "name": "stdout",
     "output_type": "stream",
     "text": [
      "'#Name\\tStudent_ID\\tDepartment\\n'\n",
      "'林X耘\\tE12013245\\tOO系\\n'\n",
      "'洪X凱\\tE12013185\\tOO系\\n'\n",
      "'吳X賢\\tE12013292\\tOO系\\n'\n",
      "'蔡X臻\\tF12013081\\tOO系\\n'\n",
      "'詹X濃\\tE12013019\\tOO系\\n'\n",
      "'王X鋒\\tF12013116\\tOO系\\n'\n",
      "'包X雅\\tE12113018\\tOO系\\n'\n",
      "'楊X茵\\tE12113012\\tOO系\\n'\n",
      "'潘X豪\\tE12113020\\tOO系\\n'\n",
      "'蔡X崧\\tE12113038\\tOO系\\n'\n",
      "'賴X任\\tE12113046\\tOO系\\n'\n",
      "'潘X倫\\tE12113054\\tOO系\\n'\n",
      "'徐X呈\\tE12113062\\tOO系\\n'\n",
      "'劉X廷\\tE12113070\\tOO系\\n'\n",
      "'蔡X謙\\tE12113088\\tOO系\\n'\n",
      "'張X銘\\tE12113096\\tOO系\\n'\n",
      "'陳X琳\\tE12113119\\tOO系\\n'\n",
      "'林X承\\tE12113127\\tOO系\\n'\n",
      "'曹X欣\\tE12113135\\tOO系\\n'\n",
      "'郭X萱\\tE12113143\\tOO系\\n'\n",
      "'李X謙\\tE12113151\\tOO系\\n'\n",
      "'魏X安\\tE12113169\\tOO系\\n'\n",
      "'萬X顯\\tE12113177\\tOO系\\n'\n",
      "'羅X甫\\tE12113185\\tOO系\\n'\n",
      "'李X霖\\tE12113193\\tOO系\\n'\n",
      "'許X馨\\tE12113208\\tOO系\\n'\n",
      "'卓X聖\\tE12113224\\tOO系\\n'\n",
      "'吳X葦\\tE12113218\\tOO系\\n'\n",
      "'楊X懿\\tE14113010\\tOO系\\n'\n",
      "'林X叡\\tE12113036\\tOO系\\n'\n",
      "'姜X杰\\tE12113044\\tOO系\\n'\n",
      "'陳X嘉\\tE12113052\\tOO系\\n'\n",
      "'陳X茂\\tE12113078\\tOO系\\n'\n",
      "'林X芫\\tE12113086\\tOO系\\n'\n",
      "'許X維\\tB12113102\\tOO系\\n'\n",
      "'許X華\\tD12113071\\tOO系\\n'\n",
      "'丁X翔\\tE12113012\\tOO系\\n'\n",
      "'廖X忻\\tE12113020\\tOO系\\n'\n",
      "'尤X閔\\tE12113054\\tOO系\\n'\n",
      "'王X宸\\tE12113062\\tOO系\\n'\n",
      "'郭X午\\tE12113096\\tOO系\\n'\n",
      "'呂X平\\tE12113101\\tOO系\\n'\n",
      "'施X杰\\tE12113119\\tOO系\\n'\n",
      "'李X翰\\tE12113151\\tOO系\\n'\n",
      "'盧X菁\\tE12113169\\tOO系\\n'\n",
      "'林X頡\\tE12113185\\tOO系\\n'\n",
      "'廖X勝\\tE12113193\\tOO系\\n'\n",
      "'林X宏\\tE12113208\\tOO系\\n'\n",
      "'王X甄\\tE14113224\\tOO系\\n'\n",
      "'李X諺\\tE12113232\\tOO系\\n'\n",
      "'黃X嘉\\tE12113240\\tOO系\\n'\n",
      "'陳X群\\tE12113258\\tOO系\\n'\n",
      "'陳X宏\\tE12113010\\tOO系\\n'\n",
      "'黃X榕\\tN12113069\\tOO所\\n'\n",
      "'陳X強\\tN12113207\\tOO所\\n'\n",
      "'馬X柏\\tE12113413\\tOO系\\n'\n",
      "'呂X蓁\\tF12113097\\tOO系\\n'\n",
      "'吳X祐\\tE12113015\\tOO系'\n"
     ]
    }
   ],
   "source": [
    "# use repr() to see the raw data\n",
    "with open('../data/courseid_24771_CA_participants.txt', 'r', encoding=\"utf-8\") as f:\n",
    "    datas = f.readlines()\n",
    "    for data in datas:\n",
    "        print(repr(data))"
   ]
  },
  {
   "cell_type": "markdown",
   "metadata": {},
   "source": [
    "#### 步驟2"
   ]
  },
  {
   "cell_type": "code",
   "execution_count": 13,
   "metadata": {},
   "outputs": [
    {
     "name": "stdout",
     "output_type": "stream",
     "text": [
      "['#Name', 'Student_ID', 'Department']\n",
      "['林X耘', 'E12013245', 'OO系']\n",
      "['洪X凱', 'E12013185', 'OO系']\n",
      "['吳X賢', 'E12013292', 'OO系']\n",
      "['蔡X臻', 'F12013081', 'OO系']\n",
      "['詹X濃', 'E12013019', 'OO系']\n",
      "['王X鋒', 'F12013116', 'OO系']\n",
      "['包X雅', 'E12113018', 'OO系']\n",
      "['楊X茵', 'E12113012', 'OO系']\n",
      "['潘X豪', 'E12113020', 'OO系']\n",
      "['蔡X崧', 'E12113038', 'OO系']\n",
      "['賴X任', 'E12113046', 'OO系']\n",
      "['潘X倫', 'E12113054', 'OO系']\n",
      "['徐X呈', 'E12113062', 'OO系']\n",
      "['劉X廷', 'E12113070', 'OO系']\n",
      "['蔡X謙', 'E12113088', 'OO系']\n",
      "['張X銘', 'E12113096', 'OO系']\n",
      "['陳X琳', 'E12113119', 'OO系']\n",
      "['林X承', 'E12113127', 'OO系']\n",
      "['曹X欣', 'E12113135', 'OO系']\n",
      "['郭X萱', 'E12113143', 'OO系']\n",
      "['李X謙', 'E12113151', 'OO系']\n",
      "['魏X安', 'E12113169', 'OO系']\n",
      "['萬X顯', 'E12113177', 'OO系']\n",
      "['羅X甫', 'E12113185', 'OO系']\n",
      "['李X霖', 'E12113193', 'OO系']\n",
      "['許X馨', 'E12113208', 'OO系']\n",
      "['卓X聖', 'E12113224', 'OO系']\n",
      "['吳X葦', 'E12113218', 'OO系']\n",
      "['楊X懿', 'E14113010', 'OO系']\n",
      "['林X叡', 'E12113036', 'OO系']\n",
      "['姜X杰', 'E12113044', 'OO系']\n",
      "['陳X嘉', 'E12113052', 'OO系']\n",
      "['陳X茂', 'E12113078', 'OO系']\n",
      "['林X芫', 'E12113086', 'OO系']\n",
      "['許X維', 'B12113102', 'OO系']\n",
      "['許X華', 'D12113071', 'OO系']\n",
      "['丁X翔', 'E12113012', 'OO系']\n",
      "['廖X忻', 'E12113020', 'OO系']\n",
      "['尤X閔', 'E12113054', 'OO系']\n",
      "['王X宸', 'E12113062', 'OO系']\n",
      "['郭X午', 'E12113096', 'OO系']\n",
      "['呂X平', 'E12113101', 'OO系']\n",
      "['施X杰', 'E12113119', 'OO系']\n",
      "['李X翰', 'E12113151', 'OO系']\n",
      "['盧X菁', 'E12113169', 'OO系']\n",
      "['林X頡', 'E12113185', 'OO系']\n",
      "['廖X勝', 'E12113193', 'OO系']\n",
      "['林X宏', 'E12113208', 'OO系']\n",
      "['王X甄', 'E14113224', 'OO系']\n",
      "['李X諺', 'E12113232', 'OO系']\n",
      "['黃X嘉', 'E12113240', 'OO系']\n",
      "['陳X群', 'E12113258', 'OO系']\n",
      "['陳X宏', 'E12113010', 'OO系']\n",
      "['黃X榕', 'N12113069', 'OO所']\n",
      "['陳X強', 'N12113207', 'OO所']\n",
      "['馬X柏', 'E12113413', 'OO系']\n",
      "['呂X蓁', 'F12113097', 'OO系']\n",
      "['吳X祐', 'E12113015', 'OO系']\n"
     ]
    }
   ],
   "source": [
    "# 從上面的結果可以發現到兩個重點，1.分隔字符不是空格是tab，2.每句結尾有\\n換行\n",
    "# 用strip()和split()處理成乾淨的list\n",
    "with open('../data/courseid_24771_CA_participants.txt', 'r', encoding=\"utf-8\") as f:\n",
    "    datas = f.readlines()\n",
    "    for data in datas:\n",
    "        data = data.strip('\\n').split(\"\\t\")\n",
    "        print(data)"
   ]
  },
  {
   "cell_type": "markdown",
   "metadata": {},
   "source": [
    "#### 步驟3"
   ]
  },
  {
   "cell_type": "code",
   "execution_count": 15,
   "metadata": {},
   "outputs": [
    {
     "name": "stdout",
     "output_type": "stream",
     "text": [
      "======student information======\n",
      "Name   : 徐X呈\n",
      "ID     : E12113062\n",
      "Dept.  : OO系\n",
      "Gender : 1\n",
      "E-MAIL : E12113062@gs.ncku.edu.tw\n",
      "===============================\n",
      "======student information======\n",
      "Name   : 王X宸\n",
      "ID     : E12113062\n",
      "Dept.  : OO系\n",
      "Gender : 1\n",
      "E-MAIL : E12113062@gs.ncku.edu.tw\n",
      "===============================\n"
     ]
    }
   ],
   "source": [
    "target = 'E12113062'\n",
    "with open('../data/courseid_24771_CA_participants.txt', 'r', encoding=\"utf-8\") as f:\n",
    "    datas = f.readlines()\n",
    "    for data in datas:\n",
    "        # 注意rstrip()及split()裡的參數\n",
    "        # 這一行的寫法其實跟data[0]，data[1]，data[2]，一樣，但令一個有意義的變數名稱可以提高程式碼可讀性\n",
    "        name, student_id, department = data.rstrip('\\n').split(\"\\t\")\n",
    "        if student_id == target:\n",
    "            print('======student information======')\n",
    "            print(f'Name   : {name}')\n",
    "            print(f'ID     : {student_id}')\n",
    "            print(f'Dept.  : {department}')\n",
    "            print(f'Gender : 1')\n",
    "            print(f'E-MAIL : {student_id}@gs.ncku.edu.tw')\n",
    "            print('===============================')"
   ]
  }
 ],
 "metadata": {
  "kernelspec": {
   "display_name": "Python 3 (ipykernel)",
   "language": "python",
   "name": "python3"
  },
  "language_info": {
   "codemirror_mode": {
    "name": "ipython",
    "version": 3
   },
   "file_extension": ".py",
   "mimetype": "text/x-python",
   "name": "python",
   "nbconvert_exporter": "python",
   "pygments_lexer": "ipython3",
   "version": "3.9.6"
  },
  "vscode": {
   "interpreter": {
    "hash": "82ed002fa2d4956f5c6aec99bcefe0f73a9f79882f3c9e2319b14958a5896ac5"
   }
  }
 },
 "nbformat": 4,
 "nbformat_minor": 2
}
