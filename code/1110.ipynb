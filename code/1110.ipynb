{
 "cells": [
  {
   "cell_type": "markdown",
   "metadata": {},
   "source": [
    "## test 1"
   ]
  },
  {
   "cell_type": "code",
   "execution_count": 2,
   "metadata": {},
   "outputs": [
    {
     "name": "stdout",
     "output_type": "stream",
     "text": [
      "[21536 24379 33906 83596 98003]\n"
     ]
    }
   ],
   "source": [
    "import numpy as np\n",
    "print(np.sort(np.random.randint(0, 100000, 5)))"
   ]
  },
  {
   "cell_type": "markdown",
   "metadata": {},
   "source": [
    "## test 2"
   ]
  },
  {
   "cell_type": "code",
   "execution_count": 15,
   "metadata": {},
   "outputs": [
    {
     "name": "stdout",
     "output_type": "stream",
     "text": [
      "Avengers = > ['CaptainAmerica', 'SpiderMan', 'Thor', 'BlackWidow', 'Hulk', 'Hawkeye', 'Vision', 'Quicksilver', 'ScarletWitch', 'Dr.Strange', 'Wolverine', 'IronMan', 'AntMan', 'WonderMan', 'BlackPanther']\n",
      "Thor is Thor Odinson!!!\n"
     ]
    }
   ],
   "source": [
    "# read the data\n",
    "avengers_list = []\n",
    "with open(r'../data/Avengers.txt', 'r', encoding='utf-8') as f:\n",
    "    for i in f.readlines():\n",
    "        avengers_list.append(i.strip())\n",
    "\n",
    "# change the raw text to dict\n",
    "avengers_dict = {}\n",
    "length = len(avengers_list)\n",
    "for i in range((length-2)//2):\n",
    "    avengers_dict[avengers_list[i]] = avengers_list[i+16]\n",
    "\n",
    "# print the avenger list\n",
    "print('Avengers = > ', end='')\n",
    "print(avengers_list[0:15])\n",
    "\n",
    "# print the output\n",
    "avenger = input()\n",
    "print(f'{avenger} is {avengers_dict[avenger]}!!!')"
   ]
  },
  {
   "cell_type": "markdown",
   "metadata": {},
   "source": [
    "## test 3"
   ]
  },
  {
   "cell_type": "markdown",
   "metadata": {},
   "source": [
    "#### solution1"
   ]
  },
  {
   "cell_type": "code",
   "execution_count": 2,
   "metadata": {},
   "outputs": [
    {
     "name": "stdout",
     "output_type": "stream",
     "text": [
      "ABd1234@1\n"
     ]
    }
   ],
   "source": [
    "import re\n",
    "# set up regex\n",
    "regex_1 = re.compile(r'[a-z]')\n",
    "regex_2 = re.compile(r'[0-9]')\n",
    "regex_3 = re.compile(r'[A-Z]')\n",
    "regex_4 = re.compile(r'[$#@]')\n",
    "\n",
    "# input data\n",
    "text = input().split(',')\n",
    "\n",
    "# re validation\n",
    "mo_list = []\n",
    "for i in text:\n",
    "    mo_1 = regex_1.findall(i)\n",
    "    mo_2 = regex_2.findall(i)\n",
    "    mo_3 = regex_3.findall(i)\n",
    "    mo_4 = regex_4.findall(i)\n",
    "    length = len(i)\n",
    "    if mo_1 != [] and mo_2 != [] and mo_3 != [] and mo_4 != [] and length>=6 and length<=12:\n",
    "        mo_list.append(i)\n",
    "\n",
    "# print th output \n",
    "for i in range(len(mo_list)):\n",
    "    if i == len(mo_list)-1:\n",
    "        print(mo_list[i])\n",
    "    else:\n",
    "        print(mo_list[i], end=',')"
   ]
  },
  {
   "cell_type": "markdown",
   "metadata": {},
   "source": [
    "#### solution 2"
   ]
  },
  {
   "cell_type": "code",
   "execution_count": 26,
   "metadata": {},
   "outputs": [
    {
     "name": "stdout",
     "output_type": "stream",
     "text": [
      "ABd1234@1\n"
     ]
    }
   ],
   "source": [
    "import re\n",
    "constraint_list = [\"[a-z]\", \"[0-9]\", \"[A-Z]\", \"[$#@]\"]\n",
    "\n",
    "#input text\n",
    "text_list = input().split(',')\n",
    "\n",
    "# re validation\n",
    "mo_list = []\n",
    "for text in text_list:\n",
    "    for constraint in constraint_list:\n",
    "        flag = 1\n",
    "        mo = re.compile(constraint).findall(text)\n",
    "        if mo == []:\n",
    "            flag = 0\n",
    "            break\n",
    "    if flag == 1 and len(text) >= 6 and len(text) <= 12:\n",
    "        mo_list.append(text)\n",
    "\n",
    "# print the output\n",
    "length = len(mo_list)\n",
    "for i in range(length):\n",
    "    if i == length-1:\n",
    "        print(mo_list[i])\n",
    "    else:\n",
    "        print(mo_list[i], end=',')"
   ]
  },
  {
   "cell_type": "markdown",
   "metadata": {},
   "source": [
    "## test 4"
   ]
  },
  {
   "cell_type": "code",
   "execution_count": 38,
   "metadata": {},
   "outputs": [
    {
     "name": "stdout",
     "output_type": "stream",
     "text": [
      "oil => 總共6個\n",
      "[446, 840, 1149, 2365, 2749, 2913]\n",
      "dream => 總共8個\n",
      "[129, 1087, 1508, 1568, 1746, 2721, 2755, 2918]\n",
      "world => 總共9個\n",
      "[0, 199, 349, 1452, 1476, 1576, 1903, 2877, 3014]\n",
      "\n",
      "The most used word is 'world'\n"
     ]
    }
   ],
   "source": [
    "# read the data\n",
    "with open('../data/Oil_dream_in_worldwide.txt', 'r', encoding='utf-8') as f:\n",
    "    text = f.read()\n",
    "\n",
    "# set up\n",
    "most_used_times = 0\n",
    "most_used_words = ''\n",
    "target_list = ['oil', 'dream', 'world']\n",
    "\n",
    "# re.finditer()\n",
    "for target in target_list:\n",
    "    mo_list = []\n",
    "    # append the matched object's index to a list\n",
    "    for mo in re.compile(target, re.IGNORECASE).finditer(text):\n",
    "        mo_list.append(mo.span()[0])\n",
    "    \n",
    "    times = len(mo_list)\n",
    "    print(f'{target} => 總共{times}個')\n",
    "    print(mo_list)\n",
    "    # compare the used times\n",
    "    if times > most_used_times:\n",
    "        most_used_times = times\n",
    "        most_used_words = target\n",
    "\n",
    "# print the output\n",
    "print()        \n",
    "print(f\"The most used word is '{most_used_words}'\")"
   ]
  },
  {
   "cell_type": "markdown",
   "metadata": {},
   "source": [
    "## test 5"
   ]
  },
  {
   "cell_type": "code",
   "execution_count": 37,
   "metadata": {},
   "outputs": [
    {
     "name": "stdout",
     "output_type": "stream",
     "text": [
      "Input the number 45.\n",
      "[99, 95, 50, 45, 37, 29, 21, 1]\n"
     ]
    }
   ],
   "source": [
    "# set up\n",
    "number = int(input())\n",
    "num_list = [37, 21, 50, 99, 1, 29, 95]\n",
    "print(f'Input the number {number}.')\n",
    "\n",
    "# append & sort\n",
    "num_list.append(number)\n",
    "num_list.sort(reverse=True)\n",
    "\n",
    "# print the output\n",
    "print(num_list)"
   ]
  }
 ],
 "metadata": {
  "kernelspec": {
   "display_name": "Python 3.10.6 ('data_science')",
   "language": "python",
   "name": "python3"
  },
  "language_info": {
   "codemirror_mode": {
    "name": "ipython",
    "version": 3
   },
   "file_extension": ".py",
   "mimetype": "text/x-python",
   "name": "python",
   "nbconvert_exporter": "python",
   "pygments_lexer": "ipython3",
   "version": "3.10.6"
  },
  "orig_nbformat": 4,
  "vscode": {
   "interpreter": {
    "hash": "700eab12a5fca790447135541b0d06934def33d9c5cae18deeb49bfef0e89fb1"
   }
  }
 },
 "nbformat": 4,
 "nbformat_minor": 2
}
