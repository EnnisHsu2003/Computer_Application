{
 "cells": [
  {
   "cell_type": "markdown",
   "metadata": {},
   "source": [
    "## Regular Expression 常用內容補充"
   ]
  },
  {
   "cell_type": "markdown",
   "metadata": {},
   "source": [
    "#### python re 常用變數名稱，以身分證字號為例"
   ]
  },
  {
   "cell_type": "code",
   "execution_count": 1,
   "metadata": {},
   "outputs": [
    {
     "name": "stdout",
     "output_type": "stream",
     "text": [
      "1 : <re.Match object; span=(0, 10), match='J123123456'>\n",
      "2 : <re.Match object; span=(0, 10), match='J123123456'>\n",
      "3 : <re.Match object; span=(0, 10), match='J123123456'>\n"
     ]
    }
   ],
   "source": [
    "import re\n",
    "# 通常要找的文本叫做text\n",
    "text = 'J123123456 is valid, and J12345 is invalid.'\n",
    "\n",
    "# pattern通常是正則表達式\n",
    "pattern = r'[A-Z][1-2]\\d{8}'\n",
    "\n",
    "# regex是re.compile()，regex前面可以加上易辨識的東西增加可讀性，例如：ID_regex\n",
    "regex = re.compile(r'[A-Z][1-2]\\d{8}')\n",
    "\n",
    "# mo代表配對到的東西(matched objects)，下面三種寫法結果相同\n",
    "mo_1 = re.search(pattern, text)\n",
    "print('1 :', mo_1)\n",
    "mo_2 = re.search(regex, text)\n",
    "print('2 :', mo_2)\n",
    "mo_3 = regex.search(text)\n",
    "print('3 :', mo_3)"
   ]
  },
  {
   "cell_type": "markdown",
   "metadata": {},
   "source": [
    "#### <re.Match object; span=(0, 10), match='J123123456'>\n",
    "#### 觀察上述程式print出的結果，span代表所取的東西的index起始，match代表抓到的東西"
   ]
  },
  {
   "cell_type": "code",
   "execution_count": 5,
   "metadata": {},
   "outputs": [
    {
     "name": "stdout",
     "output_type": "stream",
     "text": [
      "Start : 0\n",
      "Stop : 10\n",
      "Match : J123123456\n"
     ]
    }
   ],
   "source": [
    "import re\n",
    "text = 'J123123456 is valid, and J12345 is invalid.'\n",
    "regex = re.compile(r'[A-Z][1-2]\\d{8}')\n",
    "mo = regex.search(text)\n",
    "print(f'Start : {mo.span()[0]}')\n",
    "print(f'Stop : {mo.span()[1]}')\n",
    "# 雖然上面的結果叫做match，但要用mo.group()取，不能用mo.match()取\n",
    "print(f'Match : {mo.group()}')"
   ]
  },
  {
   "cell_type": "markdown",
   "metadata": {},
   "source": [
    "#### re常用語法補充"
   ]
  },
  {
   "cell_type": "code",
   "execution_count": 7,
   "metadata": {},
   "outputs": [
    {
     "name": "stdout",
     "output_type": "stream",
     "text": [
      "<re.Match object; span=(0, 5), match='12345'>\n"
     ]
    }
   ],
   "source": [
    "# {}指定次數\n",
    "# \\d\\d\\d\\d\\d = \\d{5}\n",
    "text = '12345'\n",
    "regex = re.compile(r'\\d{5}')\n",
    "print(regex.search(text))"
   ]
  },
  {
   "cell_type": "code",
   "execution_count": 10,
   "metadata": {},
   "outputs": [
    {
     "name": "stdout",
     "output_type": "stream",
     "text": [
      "[oil] => ['o', 'i', 'l', 'l', 'o', 'l', 'l', 'i', 'o']\n",
      "oil => ['oil']\n"
     ]
    }
   ],
   "source": [
    "# r'[oil]' != r'oil'\n",
    "# 前者是o或i或l，後者是oil\n",
    "text = 'oil lollipop'\n",
    "with_brackets_regex = re.compile(r'[oil]')\n",
    "without_brackets_regex = re.compile(r'oil')\n",
    "print('[oil] =>', with_brackets_regex.findall(text))\n",
    "print('oil =>', without_brackets_regex.findall(text))"
   ]
  },
  {
   "cell_type": "code",
   "execution_count": 12,
   "metadata": {},
   "outputs": [
    {
     "name": "stdout",
     "output_type": "stream",
     "text": [
      "=====false=====\n",
      "['E44123123']\n",
      "['E44123123']\n",
      "=====true=====\n",
      "['E44123123']\n",
      "[]\n"
     ]
    }
   ],
   "source": [
    "# ^指定開頭 $指定結尾\n",
    "valid_id = 'E44123123'\n",
    "invalid_id = 'E441231234'\n",
    "\n",
    "# 注意，invalid_id多一位數，但仍會抓到東西\n",
    "print('=====false=====')\n",
    "regex_false = re.compile(r'[A-Z]\\d{8}')\n",
    "print(regex_false.findall(valid_id))\n",
    "print(regex_false.findall(invalid_id))\n",
    "\n",
    "print('=====true=====')\n",
    "regex_true_1 = re.compile(r'^[A-Z]\\d{8}$')\n",
    "print(regex_true_1.findall(valid_id))\n",
    "print(regex_true_1.findall(invalid_id))"
   ]
  },
  {
   "cell_type": "markdown",
   "metadata": {},
   "source": [
    "#### findall()，finditer()差別"
   ]
  },
  {
   "cell_type": "code",
   "execution_count": 17,
   "metadata": {},
   "outputs": [
    {
     "name": "stdout",
     "output_type": "stream",
     "text": [
      "=====findall=====\n",
      "['oil', 'gasoil', 'boil', 'oily']\n",
      "=====finditer=====\n",
      "<callable_iterator object at 0x0000021500B07D30>\n",
      "<re.Match object; span=(0, 3), match='oil'>\n",
      "<re.Match object; span=(4, 10), match='gasoil'>\n",
      "<re.Match object; span=(11, 15), match='boil'>\n",
      "<re.Match object; span=(16, 20), match='oily'>\n"
     ]
    }
   ],
   "source": [
    "text = 'oil gasoil boil oily'\n",
    "regex = re.compile(r'\\w*oil\\w*')\n",
    "\n",
    "# findall return list，list裡面是抓到的東西不是位置(index)\n",
    "print('=====findall=====')\n",
    "findall_mo = regex.findall(text)\n",
    "print(findall_mo)\n",
    "\n",
    "#finditer return iterator，iterator內容與search相同，包含span和match\n",
    "print('=====finditer=====')\n",
    "finditer_mo = regex.finditer(text)\n",
    "print(finditer_mo)\n",
    "for i in finditer_mo:\n",
    "    print(i)"
   ]
  },
  {
   "cell_type": "markdown",
   "metadata": {},
   "source": [
    "## Homework 8-1"
   ]
  },
  {
   "cell_type": "code",
   "execution_count": 18,
   "metadata": {},
   "outputs": [
    {
     "name": "stdout",
     "output_type": "stream",
     "text": [
      "('123', 'asd', '789')\n",
      "123asd789\n",
      "123\n",
      "asd\n",
      "789\n"
     ]
    }
   ],
   "source": [
    "import re\n",
    "s = '123asd789'\n",
    "regex = re.compile(r'([0-9]*)([a-z]*)([0-9]*)')\n",
    "mo = regex.search(s)\n",
    "print(mo.groups())\n",
    "print(mo.group())\n",
    "print(mo.group(1))\n",
    "print(mo.group(2))\n",
    "print(mo.group(3))"
   ]
  },
  {
   "cell_type": "markdown",
   "metadata": {},
   "source": [
    "## Homework 8-2"
   ]
  },
  {
   "cell_type": "markdown",
   "metadata": {},
   "source": [
    "#### 基礎"
   ]
  },
  {
   "cell_type": "code",
   "execution_count": 30,
   "metadata": {},
   "outputs": [
    {
     "name": "stdout",
     "output_type": "stream",
     "text": [
      "Id : E44106062 is correct.\n"
     ]
    }
   ],
   "source": [
    "ID = input()\n",
    "regex = re.compile(r'^[A-Z]\\d{8}$')\n",
    "mo = re.findall(regex, ID)\n",
    "\n",
    "if mo == []:\n",
    "    print(\"This id isn't correct.\")\n",
    "else:\n",
    "    print('Id :', mo[0], 'is correct.')"
   ]
  },
  {
   "cell_type": "markdown",
   "metadata": {},
   "source": [
    "#### 進階"
   ]
  },
  {
   "cell_type": "markdown",
   "metadata": {},
   "source": [
    "#### 事實上，學生證第二碼有些系所是英文字母，先把所有系所代碼爬下來看"
   ]
  },
  {
   "cell_type": "code",
   "execution_count": 26,
   "metadata": {},
   "outputs": [
    {
     "name": "stdout",
     "output_type": "stream",
     "text": [
      "['A1', 'A2', 'A3', 'A4', 'A5', 'A7', 'A9', 'AH', 'AN', 'B1', 'B2', 'B3', 'B5', 'C1', 'C2', 'C3', 'C4', 'C5', 'C6', 'D2', 'D4', 'D5', 'D8', 'E1', 'E2', 'E3', 'E4', 'E5', 'E6', 'E7', 'E8', 'E9', 'F0', 'F1', 'F2', 'F3', 'F4', 'F5', 'F6', 'F7', 'F8', 'F9', 'H1', 'H2', 'H3', 'H4', 'H5', 'I1', 'I2', 'I3', 'I4', 'I5', 'I6', 'I7', 'I8', 'I9', 'K1', 'K2', 'K3', 'K4', 'K5', 'K7', 'K8', 'L1', 'L2', 'L3', 'L4', 'L5', 'L6', 'L7', 'L8', 'L9', 'LA', 'N0', 'N1', 'N2', 'N3', 'N4', 'N5', 'N6', 'N7', 'N8', 'N9', 'NA', 'NB', 'NC', 'ND', 'NE', 'P0', 'P1', 'P2', 'P3', 'P4', 'P5', 'P6', 'P7', 'P8', 'P9', 'PA', 'PB', 'Q1', 'Q2', 'Q3', 'Q4', 'Q5', 'Q7', 'R0', 'R1', 'R2', 'R3', 'R4', 'R5', 'R6', 'R7', 'R8', 'R9', 'RA', 'RB', 'RD', 'RE', 'S1', 'S2', 'S3', 'S4', 'S5', 'S6', 'S7', 'S8', 'S9', 'SA', 'SB', 'SC', 'T1', 'T2', 'T3', 'T4', 'T6', 'T7', 'T8', 'T9', 'TA', 'TB', 'TC', 'U1', 'U2', 'U3', 'U5', 'U6', 'U7', 'U8', 'Z1', 'Z2', 'Z3', 'Z5', 'V1', 'V2', 'V3', 'V4', 'V5', 'V6', 'V7', 'V8', 'V9', 'VA', 'VB', 'VC', 'VD', 'VE', 'VF', 'VG', 'VH', 'VJ', 'VK', 'VL', 'VM', 'VN', 'VO', 'VP', 'VQ', 'XX', 'XY', 'XZ', 'YY']\n"
     ]
    }
   ],
   "source": [
    "import requests\n",
    "from bs4 import BeautifulSoup\n",
    "\n",
    "# 爬取系所代碼\n",
    "url = 'https://reg-acad.ncku.edu.tw/p/405-1041-167305,c7569.php?Lang=zh-tw'\n",
    "resp = requests.get(url).text\n",
    "soup = BeautifulSoup(resp, 'html.parser')\n",
    "\n",
    "# 資料整理\n",
    "department_list = [i.get_text().strip() for i in soup.find_all('b')]\n",
    "department_list.remove('系所代碼')\n",
    "department_list.remove('系所名稱')\n",
    "\n",
    "print(department_list)"
   ]
  },
  {
   "cell_type": "markdown",
   "metadata": {},
   "source": [
    "#### 修改正則表達式讓第二碼可以是英文或數字，最後再加上系所代碼真實性的檢查"
   ]
  },
  {
   "cell_type": "code",
   "execution_count": 33,
   "metadata": {},
   "outputs": [
    {
     "name": "stdout",
     "output_type": "stream",
     "text": [
      "Id : E44123123 is correct.\n"
     ]
    }
   ],
   "source": [
    "import re\n",
    "import requests\n",
    "from bs4 import BeautifulSoup\n",
    "\n",
    "#Set up\n",
    "ID = 'E44123123'\n",
    "\n",
    "# 爬取系所代碼\n",
    "url = 'https://reg-acad.ncku.edu.tw/p/405-1041-167305,c7569.php?Lang=zh-tw'\n",
    "resp = requests.get(url).text\n",
    "soup = BeautifulSoup(resp, 'html.parser')\n",
    "\n",
    "department_list = [i.get_text().strip() for i in soup.find_all('b')]\n",
    "department_list.remove('系所代碼')\n",
    "department_list.remove('系所名稱')\n",
    "\n",
    "# re檢查\n",
    "regex = re.compile(r'^[A-Z][A-Z0-9]\\d{7}$')\n",
    "mo = re.findall(regex, ID)\n",
    "\n",
    "# 系所代碼檢查\n",
    "if mo == []:\n",
    "    print(f\"ID : {ID} format isn't correct.\")\n",
    "# 檢查前兩碼是否在爬下來的系所代碼表中\n",
    "elif mo[0][0:2] in department_list:\n",
    "    print(f'Id : {mo[0]} is correct.')\n",
    "else:\n",
    "    print(f\"Department {mo[0][0:2]} isn't exist.\")"
   ]
  },
  {
   "cell_type": "markdown",
   "metadata": {},
   "source": [
    "#### 再進階，包成function方便調用"
   ]
  },
  {
   "cell_type": "code",
   "execution_count": 35,
   "metadata": {},
   "outputs": [],
   "source": [
    "import re\n",
    "import requests\n",
    "from bs4 import BeautifulSoup\n",
    "\n",
    "# 爬取系所代碼\n",
    "url = 'https://reg-acad.ncku.edu.tw/p/405-1041-167305,c7569.php?Lang=zh-tw'\n",
    "resp = requests.get(url).text\n",
    "soup = BeautifulSoup(resp, 'html.parser')\n",
    "\n",
    "department_list = [i.get_text().strip() for i in soup.find_all('b')]\n",
    "department_list.remove('系所代碼')\n",
    "department_list.remove('系所名稱')\n",
    "\n",
    "def student_id_validation(ID):    \n",
    "    # re檢查\n",
    "    regex = re.compile(r'^[A-Z][A-Z0-9]\\d{7}$')\n",
    "    mo = re.findall(regex, ID)\n",
    "\n",
    "    # 系所代碼檢查\n",
    "    if mo == []:\n",
    "        return f\"ID : {ID} format isn't correct.\"\n",
    "    # 檢查前兩碼是否在爬下來的系所代碼表中\n",
    "    elif mo[0][0:2] in department_list:\n",
    "        return f'Id : {mo[0]} is correct.'\n",
    "    else:\n",
    "        return f\"Department {mo[0][0:2]} isn't exist.\""
   ]
  },
  {
   "cell_type": "code",
   "execution_count": 36,
   "metadata": {},
   "outputs": [
    {
     "name": "stdout",
     "output_type": "stream",
     "text": [
      "Id : E44123123 is correct.\n",
      "Id : VB1234567 is correct.\n",
      "Department ZZ isn't exist.\n",
      "ID : E441231234 format isn't correct.\n"
     ]
    }
   ],
   "source": [
    "# 第一、二個是正確的，第三個系所代碼錯，第四個多一碼\n",
    "ID_list = ['E44123123', 'VB1234567', 'ZZ1234567', 'E441231234']\n",
    "for ID in ID_list:\n",
    "    print(student_id_validation(ID))"
   ]
  },
  {
   "cell_type": "markdown",
   "metadata": {},
   "source": [
    "## Homework 8-3"
   ]
  },
  {
   "cell_type": "markdown",
   "metadata": {},
   "source": [
    "#### gasoil算在內"
   ]
  },
  {
   "cell_type": "code",
   "execution_count": 1,
   "metadata": {},
   "outputs": [
    {
     "name": "stdout",
     "output_type": "stream",
     "text": [
      "7\n",
      "45\n",
      "562\n",
      "748\n",
      "1537\n",
      "1861\n",
      "2037\n",
      "2200\n",
      "2339\n",
      "2534\n",
      "2662\n",
      "2767\n",
      "2877\n",
      "3204\n",
      "3410\n",
      "3622\n"
     ]
    }
   ],
   "source": [
    "import re\n",
    "with open('../data/FeatureArticle.txt', 'r', encoding='utf-8') as f:\n",
    "    text = f.read()\n",
    "\n",
    "#注意regex寫法\n",
    "regex = re.compile(r'oil', re.IGNORECASE)\n",
    "mo = re.finditer(regex, text)\n",
    "for i in mo:\n",
    "    print(i.span()[0])"
   ]
  },
  {
   "cell_type": "markdown",
   "metadata": {},
   "source": [
    "#### gasoil不算在內，少了index 1861"
   ]
  },
  {
   "cell_type": "code",
   "execution_count": 2,
   "metadata": {},
   "outputs": [
    {
     "name": "stdout",
     "output_type": "stream",
     "text": [
      "7\n",
      "45\n",
      "562\n",
      "748\n",
      "1537\n",
      "2037\n",
      "2200\n",
      "2339\n",
      "2534\n",
      "2662\n",
      "2767\n",
      "2877\n",
      "3204\n",
      "3410\n",
      "3622\n"
     ]
    }
   ],
   "source": [
    "import re\n",
    "with open('../data/FeatureArticle.txt', 'r', encoding='utf-8') as f:\n",
    "    text = f.read()\n",
    "\n",
    "#text開頭結尾加空白，避免開頭或結尾是oil無法被抓到\n",
    "space = ' '\n",
    "text = space + text + space\n",
    "\n",
    "#注意regex寫法\n",
    "regex = re.compile(r'[^a-z]oil[^a-z]', re.IGNORECASE)\n",
    "mo = re.finditer(regex, text)\n",
    "for i in mo:\n",
    "    print(i.span()[0])"
   ]
  }
 ],
 "metadata": {
  "kernelspec": {
   "display_name": "Python 3.9.6 64-bit",
   "language": "python",
   "name": "python3"
  },
  "language_info": {
   "codemirror_mode": {
    "name": "ipython",
    "version": 3
   },
   "file_extension": ".py",
   "mimetype": "text/x-python",
   "name": "python",
   "nbconvert_exporter": "python",
   "pygments_lexer": "ipython3",
   "version": "3.9.6"
  },
  "orig_nbformat": 4,
  "vscode": {
   "interpreter": {
    "hash": "82ed002fa2d4956f5c6aec99bcefe0f73a9f79882f3c9e2319b14958a5896ac5"
   }
  }
 },
 "nbformat": 4,
 "nbformat_minor": 2
}
