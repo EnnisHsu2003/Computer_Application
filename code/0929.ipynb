{
 "cells": [
  {
   "cell_type": "markdown",
   "metadata": {},
   "source": [
    "## Jupyter Notebook基本操作"
   ]
  },
  {
   "cell_type": "markdown",
   "metadata": {},
   "source": [
    "#### Jupyter Notebook(後續簡稱Jupyter)在操作時主要分為兩個模式，分別是Command mode和Edit mode，平常打字的時候都是在Edit mode，按esc能切換到Command mode，按Enter回到Edit mode。\n",
    "#### Command mode比較常用到的幾個功能：\n",
    "##### 1. 上下方向鍵切換不同cell(Jupyter每一個打字的框框都是一個cell)\n",
    "##### 2. 按'B'在目前cell下方開一個新的cell\n",
    "##### 3. 按'A'在目前cell上方開一個新的cell\n",
    "##### 4. 按兩次'D'刪除目前的cell\n",
    "##### 5. 一般情況下cell左邊會有In[ ]，這個代表它是可以寫程式碼的cell，按'M'的話可以切換成Markdown的cell，就可以像這邊寫一些文字備註\n",
    "##### 6. 'Alt' + 上下方向鍵，可以移動cell的位置，這個功能在Edit mode也可以使用，可以移動指定行的上下位置"
   ]
  },
  {
   "cell_type": "markdown",
   "metadata": {},
   "source": [
    "## 執行程式的方法\n",
    "##### 1. 用滑鼠點上方的Run，執行你現在所在的cell，執行完後在下方開一個新的cell，如果下方原本就有cell，會跳到下面的cell\n",
    "##### 2. 按'shift' + 'enter'，執行你現在所在的cell，執行完後在下方開一個新的cell，如果下方原本就有cell，會跳到下面的cell\n",
    "##### 3. 按'Ctrl' + 'enter'，執行你現在所在的cell，執行完後留在原本的cell，'不會'在下方開一個新的cell"
   ]
  },
  {
   "cell_type": "code",
   "execution_count": 1,
   "metadata": {},
   "outputs": [
    {
     "name": "stdout",
     "output_type": "stream",
     "text": [
      "只有我會被執行喔\n"
     ]
    }
   ],
   "source": [
    "# 試著操作看看吧！\n",
    "# 前面有一個'#'代表這行是註解，這行的內容不會執行\n",
    "print('只有我會被執行喔')"
   ]
  },
  {
   "cell_type": "markdown",
   "metadata": {},
   "source": [
    "## 迴圈簡介"
   ]
  },
  {
   "cell_type": "code",
   "execution_count": 2,
   "metadata": {},
   "outputs": [
    {
     "name": "stdout",
     "output_type": "stream",
     "text": [
      "0\n",
      "1\n",
      "2\n",
      "3\n",
      "4\n",
      "5\n",
      "6\n",
      "7\n",
      "8\n",
      "9\n",
      "10\n"
     ]
    }
   ],
   "source": [
    "#for迴圈範例輸出0-10\n",
    "#i是隨便取的變數名字，想取什麼都可以\n",
    "for i in range(11):\n",
    "    print(i)\n",
    "\n",
    "# 這邊要注意的是range()如果只設一個數字，代表的是從0開始到你設的數字-1，像我設11，它的範圍是0-10總共11個數字\n",
    "# 設兩個數字的話第一個是起始值，第二個是結束值，範圍一樣只到結束值-1，例如range(2, 10)範圍是2-9"
   ]
  },
  {
   "cell_type": "code",
   "execution_count": 3,
   "metadata": {},
   "outputs": [
    {
     "name": "stdout",
     "output_type": "stream",
     "text": [
      "0\n",
      "1\n",
      "2\n",
      "3\n",
      "4\n",
      "5\n",
      "6\n",
      "7\n",
      "8\n",
      "9\n",
      "10\n"
     ]
    }
   ],
   "source": [
    "# while 迴圈範例輸出0-10\n",
    "i = 0\n",
    "while i <= 10:\n",
    "    print(i)\n",
    "    i += 1\n",
    "# i += 1代表i = i+1，同理也有i *= 1 、 i /= 2 、 i -= 5之類的"
   ]
  },
  {
   "cell_type": "markdown",
   "metadata": {},
   "source": [
    "## str.index() 和 str.find()\n",
    "##### 這兩個function都會返回第一個找到的東西的索引值，但在遇到找不到的東西的時候，出現的效果會不一樣，str.find()會返回-1，而str.index()會跳出錯誤訊息"
   ]
  },
  {
   "cell_type": "code",
   "execution_count": 4,
   "metadata": {},
   "outputs": [
    {
     "name": "stdout",
     "output_type": "stream",
     "text": [
      "-1\n"
     ]
    }
   ],
   "source": [
    "text = 'Oh my god!'\n",
    "word_i_want_to_find = 'python'\n",
    "print(text.find(word_i_want_to_find))"
   ]
  },
  {
   "cell_type": "code",
   "execution_count": 5,
   "metadata": {},
   "outputs": [
    {
     "ename": "ValueError",
     "evalue": "substring not found",
     "output_type": "error",
     "traceback": [
      "\u001b[1;31m---------------------------------------------------------------------------\u001b[0m",
      "\u001b[1;31mValueError\u001b[0m                                Traceback (most recent call last)",
      "\u001b[1;32mc:\\Users\\user\\Desktop\\MyCode\\Python\\0929.ipynb Cell 10\u001b[0m in \u001b[0;36m<cell line: 3>\u001b[1;34m()\u001b[0m\n\u001b[0;32m      <a href='vscode-notebook-cell:/c%3A/Users/user/Desktop/MyCode/Python/0929.ipynb#X33sZmlsZQ%3D%3D?line=0'>1</a>\u001b[0m text \u001b[39m=\u001b[39m \u001b[39m'\u001b[39m\u001b[39mOh my god!\u001b[39m\u001b[39m'\u001b[39m\n\u001b[0;32m      <a href='vscode-notebook-cell:/c%3A/Users/user/Desktop/MyCode/Python/0929.ipynb#X33sZmlsZQ%3D%3D?line=1'>2</a>\u001b[0m word_i_want_to_find \u001b[39m=\u001b[39m \u001b[39m'\u001b[39m\u001b[39mpython\u001b[39m\u001b[39m'\u001b[39m\n\u001b[1;32m----> <a href='vscode-notebook-cell:/c%3A/Users/user/Desktop/MyCode/Python/0929.ipynb#X33sZmlsZQ%3D%3D?line=2'>3</a>\u001b[0m \u001b[39mprint\u001b[39m(text\u001b[39m.\u001b[39;49mindex(word_i_want_to_find))\n",
      "\u001b[1;31mValueError\u001b[0m: substring not found"
     ]
    }
   ],
   "source": [
    "text = 'Oh my god!'\n",
    "word_i_want_to_find = 'python'\n",
    "print(text.index(word_i_want_to_find))"
   ]
  },
  {
   "cell_type": "code",
   "execution_count": 6,
   "metadata": {},
   "outputs": [
    {
     "name": "stdout",
     "output_type": "stream",
     "text": [
      "-1\n"
     ]
    }
   ],
   "source": [
    "# 如果堅持還是想用index，但想讓他返回-1的寫法\n",
    "text = 'Oh my god!'\n",
    "word_i_want_to_find = 'python'\n",
    "try:\n",
    "    print(text.find(word_i_want_to_find))\n",
    "except:\n",
    "    print(-1)"
   ]
  },
  {
   "cell_type": "markdown",
   "metadata": {},
   "source": [
    "## break的用法\n",
    "##### break可以跳出當前所在的'一個'迴圈，所以如果你是疊了好幾層的迴圈，他也只會跳出一個"
   ]
  },
  {
   "cell_type": "code",
   "execution_count": 7,
   "metadata": {},
   "outputs": [
    {
     "name": "stdout",
     "output_type": "stream",
     "text": [
      "0 我還在for迴圈裡\n",
      "1 我還在for迴圈裡\n",
      "2 我還在for迴圈裡\n",
      "3 接下來碰到break就會跳出for迴圈了\n",
      "我在while迴圈，等下碰到break我就會跳出while迴圈了\n",
      "我不在任何迴圈裡了\n"
     ]
    }
   ],
   "source": [
    "while True:\n",
    "    for i in range(5):\n",
    "        if (i < 3):\n",
    "            print(i, '我還在for迴圈裡')\n",
    "        if (i >= 3):\n",
    "            print(i, '接下來碰到break就會跳出for迴圈了')\n",
    "            break\n",
    "    print('我在while迴圈，等下碰到break我就會跳出while迴圈了')\n",
    "    break\n",
    "print('我不在任何迴圈裡了')"
   ]
  },
  {
   "cell_type": "markdown",
   "metadata": {},
   "source": [
    "## Python print() formatting\n",
    "##### python有一個比較新的(也有蠻多年了)的formatting方法叫做f-string，語法是print(f'中間是我要打的字')，那個f是一定要有的，代表你這邊要用f-string"
   ]
  },
  {
   "cell_type": "code",
   "execution_count": 8,
   "metadata": {},
   "outputs": [
    {
     "name": "stdout",
     "output_type": "stream",
     "text": [
      "我的身高四捨五入有 200 公分\n"
     ]
    }
   ],
   "source": [
    "#用'，'缺點是他一定會有空格，注意200的前後！！\n",
    "height = 200\n",
    "print('我的身高四捨五入有', height, '公分')"
   ]
  },
  {
   "cell_type": "code",
   "execution_count": 9,
   "metadata": {},
   "outputs": [
    {
     "ename": "TypeError",
     "evalue": "can only concatenate str (not \"int\") to str",
     "output_type": "error",
     "traceback": [
      "\u001b[1;31m---------------------------------------------------------------------------\u001b[0m",
      "\u001b[1;31mTypeError\u001b[0m                                 Traceback (most recent call last)",
      "\u001b[1;32mc:\\Users\\user\\Desktop\\MyCode\\Python\\0929.ipynb Cell 16\u001b[0m in \u001b[0;36m<cell line: 3>\u001b[1;34m()\u001b[0m\n\u001b[0;32m      <a href='vscode-notebook-cell:/c%3A/Users/user/Desktop/MyCode/Python/0929.ipynb#X43sZmlsZQ%3D%3D?line=0'>1</a>\u001b[0m \u001b[39m#用'+'不會有空格\u001b[39;00m\n\u001b[0;32m      <a href='vscode-notebook-cell:/c%3A/Users/user/Desktop/MyCode/Python/0929.ipynb#X43sZmlsZQ%3D%3D?line=1'>2</a>\u001b[0m height \u001b[39m=\u001b[39m \u001b[39m200\u001b[39m\n\u001b[1;32m----> <a href='vscode-notebook-cell:/c%3A/Users/user/Desktop/MyCode/Python/0929.ipynb#X43sZmlsZQ%3D%3D?line=2'>3</a>\u001b[0m \u001b[39mprint\u001b[39m(\u001b[39m'\u001b[39;49m\u001b[39m我的身高四捨五入有\u001b[39;49m\u001b[39m'\u001b[39;49m \u001b[39m+\u001b[39;49m height \u001b[39m+\u001b[39m \u001b[39m'\u001b[39m\u001b[39m公分\u001b[39m\u001b[39m'\u001b[39m)\n",
      "\u001b[1;31mTypeError\u001b[0m: can only concatenate str (not \"int\") to str"
     ]
    }
   ],
   "source": [
    "#用'+'不會有空格\n",
    "height = 200\n",
    "print('我的身高四捨五入有' + height + '公分')"
   ]
  },
  {
   "cell_type": "code",
   "execution_count": null,
   "metadata": {},
   "outputs": [
    {
     "name": "stdout",
     "output_type": "stream",
     "text": [
      "我的身高四捨五入有200公分\n"
     ]
    }
   ],
   "source": [
    "# 為什麼會有錯誤呢，因為height這個變數是int(整數)，'+'只能用在全部都是string(字串)\n",
    "height = 200\n",
    "print('我的身高四捨五入有' + str(height) + '公分')"
   ]
  },
  {
   "cell_type": "code",
   "execution_count": null,
   "metadata": {},
   "outputs": [
    {
     "name": "stdout",
     "output_type": "stream",
     "text": [
      "我的身高四捨五入有200公分\n"
     ]
    }
   ],
   "source": [
    "# f-string還沒出來時候的方法\n",
    "height = 200\n",
    "print('我的身高四捨五入有{}公分'.format(height))"
   ]
  },
  {
   "cell_type": "code",
   "execution_count": 10,
   "metadata": {},
   "outputs": [
    {
     "name": "stdout",
     "output_type": "stream",
     "text": [
      "我的身高四捨五入有200公分\n"
     ]
    }
   ],
   "source": [
    "# 最好用的f-string，{}裡面直接放變數就可以\n",
    "height = 200\n",
    "print(f'我的身高四捨五入有{height}公分')"
   ]
  },
  {
   "cell_type": "markdown",
   "metadata": {},
   "source": [
    "#### f-string一些酷酷ㄉ用法"
   ]
  },
  {
   "cell_type": "code",
   "execution_count": 11,
   "metadata": {},
   "outputs": [
    {
     "name": "stdout",
     "output_type": "stream",
     "text": [
      "指定小數點兩位：123.46\n",
      "我可以做運算678.456789\n"
     ]
    }
   ],
   "source": [
    "#指定小數位數\n",
    "number1 = 123.456789\n",
    "number2 = 555\n",
    "print(f'指定小數點兩位：{number1:.2f}')\n",
    "print(f'我可以做運算{number1+number2}')\n",
    "# 其實還有很多功能，自己研究！！"
   ]
  },
  {
   "cell_type": "markdown",
   "metadata": {},
   "source": [
    "#### 今天作業我ㄉ解法，超過繳交期限應該沒差了吧ㄏ"
   ]
  },
  {
   "cell_type": "code",
   "execution_count": 12,
   "metadata": {},
   "outputs": [],
   "source": [
    "# 文章\n",
    "text = '''Global Demand, U.S. Production Nearing Record Highs\n",
    "HOUSTON–In the February Short-Term Energy Outlook, the U.S. Energy Information Administration says 2022 global oil consumption will surge past 2019’s record 100.3 million barrels a day, climbing 3.5 million MMbbl/d year-over-year to average 100.6 MMbbl/d this year followed by another 1.9 MMbbl/d increase next year to an average 102.5 MMbbl/d. In January, global demand reached 99.0 MMbbl/d, representing a 6.6 MMbbl/d jump from January 2021.\n",
    "Furthermore, responding to robust demand and crude oil prices touching their highest levels in seven years, EIA reports that U.S. crude oil production is also on the rise, and is forecast to eclipse the 12.3 MMbbl/d pre-pandemic peak set in 2019. On November, U.S. output surged to 11.8 MMbbl/d, the most in any month since April 2020. For full-year 2022, the agency projects production climbing to an average of 12.0 MMbbl/d and then continue growing to a new historical annual high of 12.6 MMbbl/d in 2023.\n",
    "To absolutely no one’s surprise, the Permian Basin is leading the impressive rebound in U.S. oil production. EIA data indicates that for the first time in its long history the Permian is producing more than 5 MMbbl/d–a stunning five-fold increase over the past decade.\n",
    "In a research note issued in early February, data analysis firm Lium LLC projected that U.S. oil output will expand by more than 1 MMbbl/d this year, with private operators-which represent more than one-third of total U.S. production-expected to continue ramping completion activity but large independents and major oil companies also stepping up activity and investment levels.\n",
    "“Field level datapoints in recent weeks have highlighted a surge in fracturing activity, which we believe will translate into a production inflection by mid-year,” the firm wrote. “The industry is finding (and we think will continue to find) a way to put plenty of service activity into the field.”\n",
    "Exxon Mobil Corp. said in early February that it plans to increase output by 25% this year in the Permian, and Chevron Corp. signaled that it plans to ramp up its Permian production by 10%.\n",
    "Increased Well Productivity\n",
    "Permian operators are achieving that growth through increased activity as well as increased per-well productivities, points out Rystad Energy. The average productivity of new wells in the basin is poised hit a record high this year, in large part because of increasing completed lateral lengths, according to Rystad.\n",
    "“New wells are expected to break the 1,000 barrels of oil equivalent a day threshold for the first time on record, rising from the 974 boe/d achieved in 2021,” Artem Abramov, head of shale research, stated in a report. “Average daily production levels have steadily climbed since 2010, closely aligned with horizontal well length, which is expected to reach 9,500 feet in 2022.”\n",
    "The total completed lateral footage of wells in the Permian is expected to reach a record 50 million feet in 2022, beating 2021’s total of 45.8 million feet and racing past pre-pandemic levels of 47.5 million feet in 2019. Abramov notes that operators only started using ultra-long laterals wells of up to three miles in length in the basin in 2014, but their popularity has quickly grown.\n",
    "“Their market share has rocketed in recent years, representing only 4% of completions in 2017 versus 18% in 2021. However, considering total completed lateral footage in 2021, these wells accounted for as much as 23% of completions,” he says.\n",
    "The average horizontal well length in the Permian increased to 9,300 feet in 2021, up from 9,000 feet in 2020, and bucking the overall trend of average US shale well lengths, which stayed relatively stagnant. This increase signals a growing trend among operators to favor longer wells with an eye on increased productivity, according to Abramov.\n",
    "“The Permian is now entering a three-mile lateral era,” he comments. “Such long wells were viewed as inferior for their high finding and development costs in some deeper zones just a few years ago, but modern equipment and completion methods allow extended reach wells to spread across the entire basin.”\n",
    "The perforated length of the horizontal section of a well has always been viewed as a critical driver of well productivity and costs. When unconventional development began, horizontal well lengths were short, with most under 5,500 feet, the equivalent of about a mile. As technology and mechanical capabilities have advanced, well lengths have increased, helping new wells be more productive, Abramov explains. Well productivity is measured over the first 180 days after a well starts producing oil due to the front-loaded nature of unconventional oil production.\n",
    "Lateral footage of individual wells has expanded as operators increase efficiency and boost production. However, it may be too early to view the increase in ultra-long laterals between 2.5 and 3.0 miles as an industrywide trend in the Permian, Abramov relates, pointing out that some key operators contribute to this segment with a disproportionally large weightage relative to their total number of completions.\n",
    "For example, he says Pioneer Natural Resources–the largest operator in the basin–accounted for 12.6% of total Permian horizontal completions in 2020-21, including wells originally completed by DoublePoint Energy, Parsley Energy and Jagged Peak Energy (all of which were acquired by Pioneer). Yet, Pioneer accounted for as much as 18.6% of completions with a perforated length greater than 12,500 feet.'''\n",
    "\n",
    "#在這邊輸入要找的字，word2find是word_to_find的意思，變數取名最好選一些有意義的，a、b、c之類的沒有不行，只是會很難看懂 \n",
    "word2find = input('請輸入要找的字:')\n",
    "# 把全部字都變成小寫，這樣像Global和global都會被找到\n",
    "text = text.lower()\n",
    "word2find = word2find.lower()"
   ]
  },
  {
   "cell_type": "markdown",
   "metadata": {},
   "source": [
    "#### 解法1 str.find()，改變find()起始的index，這個好像是最多人寫的方法"
   ]
  },
  {
   "cell_type": "code",
   "execution_count": 13,
   "metadata": {},
   "outputs": [
    {
     "name": "stdout",
     "output_type": "stream",
     "text": [
      "163\n",
      "547\n",
      "632\n",
      "1098\n",
      "1367\n",
      "1590\n",
      "2541\n",
      "4645\n",
      "4698\n",
      "總共有9個oil\n"
     ]
    }
   ],
   "source": [
    "index = 0\n",
    "count = text.count(word2find)\n",
    "for i in range(count):\n",
    "    index = text.find(word2find, index)\n",
    "    print(index)\n",
    "    index += 1\n",
    "print(f'總共有{text.count(word2find)}個{word2find}')"
   ]
  },
  {
   "cell_type": "markdown",
   "metadata": {},
   "source": [
    "#### 解法2 str.index()，找到的東西替換掉，這樣就能繼續找下一個，例如我找到第一個oil，我就把o改成^，這樣這個字就變成^il，所以下一次找就會跳過這一個"
   ]
  },
  {
   "cell_type": "code",
   "execution_count": 14,
   "metadata": {},
   "outputs": [
    {
     "name": "stdout",
     "output_type": "stream",
     "text": [
      "163\n",
      "547\n",
      "632\n",
      "1098\n",
      "1367\n",
      "1590\n",
      "2541\n",
      "4645\n",
      "4698\n",
      "總共有9個\"oil\"\n"
     ]
    }
   ],
   "source": [
    "# 這個方法會把原本的text改掉，所以跑完這個要跑其他解法的話要重跑一次text=一大串的那個cell，我貼在底下\n",
    "count = 0\n",
    "while True:\n",
    "    try:\n",
    "        find_index = text.index(word2find)\n",
    "        # str is immutable, so change str to list and substitude found word to other word. i.e. '^'\n",
    "        # by doing this, str.index() can go on searching next word.\n",
    "        str_list = list(text)\n",
    "        str_list[find_index] = '^'\n",
    "        text = \"\".join(str_list)\n",
    "        print(find_index)\n",
    "        count += 1\n",
    "    except:\n",
    "        print(f'總共有{count}個\"{word2find}\"')\n",
    "        break"
   ]
  },
  {
   "cell_type": "markdown",
   "metadata": {},
   "source": [
    "#### 解法3 兩個指標"
   ]
  },
  {
   "cell_type": "code",
   "execution_count": 17,
   "metadata": {},
   "outputs": [],
   "source": [
    "# 文章\n",
    "text = '''Global Demand, U.S. Production Nearing Record Highs\n",
    "HOUSTON–In the February Short-Term Energy Outlook, the U.S. Energy Information Administration says 2022 global oil consumption will surge past 2019’s record 100.3 million barrels a day, climbing 3.5 million MMbbl/d year-over-year to average 100.6 MMbbl/d this year followed by another 1.9 MMbbl/d increase next year to an average 102.5 MMbbl/d. In January, global demand reached 99.0 MMbbl/d, representing a 6.6 MMbbl/d jump from January 2021.\n",
    "Furthermore, responding to robust demand and crude oil prices touching their highest levels in seven years, EIA reports that U.S. crude oil production is also on the rise, and is forecast to eclipse the 12.3 MMbbl/d pre-pandemic peak set in 2019. On November, U.S. output surged to 11.8 MMbbl/d, the most in any month since April 2020. For full-year 2022, the agency projects production climbing to an average of 12.0 MMbbl/d and then continue growing to a new historical annual high of 12.6 MMbbl/d in 2023.\n",
    "To absolutely no one’s surprise, the Permian Basin is leading the impressive rebound in U.S. oil production. EIA data indicates that for the first time in its long history the Permian is producing more than 5 MMbbl/d–a stunning five-fold increase over the past decade.\n",
    "In a research note issued in early February, data analysis firm Lium LLC projected that U.S. oil output will expand by more than 1 MMbbl/d this year, with private operators-which represent more than one-third of total U.S. production-expected to continue ramping completion activity but large independents and major oil companies also stepping up activity and investment levels.\n",
    "“Field level datapoints in recent weeks have highlighted a surge in fracturing activity, which we believe will translate into a production inflection by mid-year,” the firm wrote. “The industry is finding (and we think will continue to find) a way to put plenty of service activity into the field.”\n",
    "Exxon Mobil Corp. said in early February that it plans to increase output by 25% this year in the Permian, and Chevron Corp. signaled that it plans to ramp up its Permian production by 10%.\n",
    "Increased Well Productivity\n",
    "Permian operators are achieving that growth through increased activity as well as increased per-well productivities, points out Rystad Energy. The average productivity of new wells in the basin is poised hit a record high this year, in large part because of increasing completed lateral lengths, according to Rystad.\n",
    "“New wells are expected to break the 1,000 barrels of oil equivalent a day threshold for the first time on record, rising from the 974 boe/d achieved in 2021,” Artem Abramov, head of shale research, stated in a report. “Average daily production levels have steadily climbed since 2010, closely aligned with horizontal well length, which is expected to reach 9,500 feet in 2022.”\n",
    "The total completed lateral footage of wells in the Permian is expected to reach a record 50 million feet in 2022, beating 2021’s total of 45.8 million feet and racing past pre-pandemic levels of 47.5 million feet in 2019. Abramov notes that operators only started using ultra-long laterals wells of up to three miles in length in the basin in 2014, but their popularity has quickly grown.\n",
    "“Their market share has rocketed in recent years, representing only 4% of completions in 2017 versus 18% in 2021. However, considering total completed lateral footage in 2021, these wells accounted for as much as 23% of completions,” he says.\n",
    "The average horizontal well length in the Permian increased to 9,300 feet in 2021, up from 9,000 feet in 2020, and bucking the overall trend of average US shale well lengths, which stayed relatively stagnant. This increase signals a growing trend among operators to favor longer wells with an eye on increased productivity, according to Abramov.\n",
    "“The Permian is now entering a three-mile lateral era,” he comments. “Such long wells were viewed as inferior for their high finding and development costs in some deeper zones just a few years ago, but modern equipment and completion methods allow extended reach wells to spread across the entire basin.”\n",
    "The perforated length of the horizontal section of a well has always been viewed as a critical driver of well productivity and costs. When unconventional development began, horizontal well lengths were short, with most under 5,500 feet, the equivalent of about a mile. As technology and mechanical capabilities have advanced, well lengths have increased, helping new wells be more productive, Abramov explains. Well productivity is measured over the first 180 days after a well starts producing oil due to the front-loaded nature of unconventional oil production.\n",
    "Lateral footage of individual wells has expanded as operators increase efficiency and boost production. However, it may be too early to view the increase in ultra-long laterals between 2.5 and 3.0 miles as an industrywide trend in the Permian, Abramov relates, pointing out that some key operators contribute to this segment with a disproportionally large weightage relative to their total number of completions.\n",
    "For example, he says Pioneer Natural Resources–the largest operator in the basin–accounted for 12.6% of total Permian horizontal completions in 2020-21, including wells originally completed by DoublePoint Energy, Parsley Energy and Jagged Peak Energy (all of which were acquired by Pioneer). Yet, Pioneer accounted for as much as 18.6% of completions with a perforated length greater than 12,500 feet.'''\n",
    "\n",
    "#在這邊輸入要找的字，word2find是word_to_find的意思，變數取名最好選一些有意義的，a、b、c之類的沒有不行，只是會很難看懂 \n",
    "word2find = input('請輸入要找的字:')\n",
    "# 把全部字都變成小寫，這樣像Global和global都會被找到\n",
    "text = text.lower()\n",
    "word2find = word2find.lower()"
   ]
  },
  {
   "cell_type": "code",
   "execution_count": 18,
   "metadata": {},
   "outputs": [
    {
     "name": "stdout",
     "output_type": "stream",
     "text": [
      "163\n",
      "547\n",
      "632\n",
      "1098\n",
      "1367\n",
      "1590\n",
      "2541\n",
      "4645\n",
      "4698\n",
      "總共有9個\"oil\"\n"
     ]
    }
   ],
   "source": [
    "word2find_len = len(word2find)\n",
    "word2find_pointer = 0\n",
    "count = 0\n",
    "for text_pointer in range(len(text)):\n",
    "    if (text[text_pointer] == word2find[word2find_pointer]):\n",
    "        while True:\n",
    "            text_pointer += 1\n",
    "            word2find_pointer += 1\n",
    "            if(text[text_pointer] != word2find[word2find_pointer]):\n",
    "                word2find_pointer = 0\n",
    "                break\n",
    "            if(word2find_pointer == word2find_len-1):\n",
    "                print(text_pointer-word2find_len+1)\n",
    "                word2find_pointer = 0\n",
    "                count += 1\n",
    "                break\n",
    "    else:\n",
    "        pass\n",
    "print(f'總共有{count}個\"{word2find}\"')"
   ]
  },
  {
   "cell_type": "markdown",
   "metadata": {},
   "source": [
    "#### 解法4 老師嫌我寫得太複雜，叫我用兩行寫"
   ]
  },
  {
   "cell_type": "code",
   "execution_count": 19,
   "metadata": {},
   "outputs": [
    {
     "name": "stdout",
     "output_type": "stream",
     "text": [
      "163\n",
      "547\n",
      "632\n",
      "1098\n",
      "1367\n",
      "1590\n",
      "2541\n",
      "4645\n",
      "4698\n",
      "總共有9個\"oil\"\n"
     ]
    }
   ],
   "source": [
    "[print(i) for i in range(len(text)) if text[i:].startswith(word2find)]\n",
    "print(f'總共有{text.count(word2find)}個\"{word2find}\"')"
   ]
  },
  {
   "cell_type": "markdown",
   "metadata": {},
   "source": [
    "#### 解法5 '正則表達式'，寫起來最快，但是老師說這個太難不能用QQ"
   ]
  },
  {
   "cell_type": "code",
   "execution_count": 20,
   "metadata": {},
   "outputs": [
    {
     "name": "stdout",
     "output_type": "stream",
     "text": [
      "163\n",
      "547\n",
      "632\n",
      "1098\n",
      "1367\n",
      "1590\n",
      "2541\n",
      "4645\n",
      "4698\n",
      "總共有9個\"oil\"\n"
     ]
    }
   ],
   "source": [
    "import re\n",
    "regex = re.compile(word2find, re.IGNORECASE)\n",
    "mo = re.finditer(regex, text)\n",
    "count = 0\n",
    "for i in mo:\n",
    "    print(i.span()[0])\n",
    "    count += 1\n",
    "print(f'總共有{count}個\"{word2find}\"')"
   ]
  },
  {
   "cell_type": "markdown",
   "metadata": {},
   "source": [
    "## programming其實很好玩的，大家加油！！"
   ]
  }
 ],
 "metadata": {
  "interpreter": {
   "hash": "82ed002fa2d4956f5c6aec99bcefe0f73a9f79882f3c9e2319b14958a5896ac5"
  },
  "kernelspec": {
   "display_name": "Python 3.9.6 64-bit",
   "language": "python",
   "name": "python3"
  },
  "language_info": {
   "codemirror_mode": {
    "name": "ipython",
    "version": 3
   },
   "file_extension": ".py",
   "mimetype": "text/x-python",
   "name": "python",
   "nbconvert_exporter": "python",
   "pygments_lexer": "ipython3",
   "version": "3.9.6"
  },
  "orig_nbformat": 4
 },
 "nbformat": 4,
 "nbformat_minor": 2
}
